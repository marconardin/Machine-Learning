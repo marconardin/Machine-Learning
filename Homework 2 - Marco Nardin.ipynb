{
 "cells": [
  {
   "cell_type": "markdown",
   "id": "7e829f9e",
   "metadata": {},
   "source": [
    "##### Instructions: Have all the code for all the questions in one Jupyter notebook and upload the file at the time of submission. I will only consider this file format for grading. Run all the cells before uploading the file. So, after you uploaded the file, check the file extension and if it is not an ipynb, then upload the right file.\n",
    "\n",
    "# Consider population.csv file that is in the categorical_cols folder and answer the following:\n",
    "\n",
    "### Use the Markdown feature in the notebook to explain the steps. "
   ]
  },
  {
   "cell_type": "markdown",
   "id": "8a16c88a",
   "metadata": {},
   "source": [
    "## 1. Separate categorical columns from numerical columns. Apply OneHot encoding to categorical features."
   ]
  },
  {
   "cell_type": "code",
   "execution_count": 1,
   "id": "4c7661d7",
   "metadata": {},
   "outputs": [],
   "source": [
    "import numpy as np\n",
    "import pandas as pd\n",
    "from sklearn.compose import make_column_selector as col_selector\n",
    "from sklearn.preprocessing import StandardScaler, OrdinalEncoder, OneHotEncoder, MinMaxScaler"
   ]
  },
  {
   "cell_type": "code",
   "execution_count": 2,
   "id": "91903def",
   "metadata": {},
   "outputs": [],
   "source": [
    "df = pd.read_csv('class4/categorical_cols/population.csv')"
   ]
  },
  {
   "cell_type": "code",
   "execution_count": 3,
   "id": "3a6b1594",
   "metadata": {},
   "outputs": [
    {
     "name": "stdout",
     "output_type": "stream",
     "text": [
      "<class 'pandas.core.frame.DataFrame'>\n",
      "RangeIndex: 32561 entries, 0 to 32560\n",
      "Data columns (total 15 columns):\n",
      " #   Column            Non-Null Count  Dtype \n",
      "---  ------            --------------  ----- \n",
      " 0   Age               32561 non-null  int64 \n",
      " 1   Job Type          32561 non-null  object\n",
      " 2   Final Weight      32561 non-null  int64 \n",
      " 3   Education         32561 non-null  object\n",
      " 4   Education Number  32561 non-null  int64 \n",
      " 5   Marital Status    32561 non-null  object\n",
      " 6   Job Title         32561 non-null  object\n",
      " 7   Relationship      32561 non-null  object\n",
      " 8   Race              32561 non-null  object\n",
      " 9   Gender            32561 non-null  object\n",
      " 10  Capital Gain      32561 non-null  int64 \n",
      " 11  Capital Loss      32561 non-null  int64 \n",
      " 12  Hours per week    32561 non-null  int64 \n",
      " 13  Country           32561 non-null  object\n",
      " 14  Income            32561 non-null  object\n",
      "dtypes: int64(6), object(9)\n",
      "memory usage: 3.7+ MB\n"
     ]
    }
   ],
   "source": [
    "df.info()"
   ]
  },
  {
   "cell_type": "code",
   "execution_count": 4,
   "id": "e50b57ed",
   "metadata": {},
   "outputs": [
    {
     "data": {
      "text/plain": [
       "Age                  int64\n",
       "Job Type            object\n",
       "Final Weight         int64\n",
       "Education           object\n",
       "Education Number     int64\n",
       "Marital Status      object\n",
       "Job Title           object\n",
       "Relationship        object\n",
       "Race                object\n",
       "Gender              object\n",
       "Capital Gain         int64\n",
       "Capital Loss         int64\n",
       "Hours per week       int64\n",
       "Country             object\n",
       "Income              object\n",
       "dtype: object"
      ]
     },
     "execution_count": 4,
     "metadata": {},
     "output_type": "execute_result"
    }
   ],
   "source": [
    "df.dtypes"
   ]
  },
  {
   "cell_type": "code",
   "execution_count": 5,
   "id": "6c91cdcc",
   "metadata": {},
   "outputs": [
    {
     "data": {
      "text/plain": [
       "Job Type\n",
       " Private             22696\n",
       " Self-emp-not-inc     2541\n",
       " Local-gov            2093\n",
       " ?                    1836\n",
       " State-gov            1298\n",
       " Self-emp-inc         1116\n",
       " Federal-gov           960\n",
       " Without-pay            14\n",
       " Never-worked            7\n",
       "Name: count, dtype: int64"
      ]
     },
     "execution_count": 5,
     "metadata": {},
     "output_type": "execute_result"
    }
   ],
   "source": [
    "df['Job Type'].value_counts()"
   ]
  },
  {
   "cell_type": "code",
   "execution_count": 6,
   "id": "f25f8e4b",
   "metadata": {},
   "outputs": [
    {
     "data": {
      "text/plain": [
       "Education Number\n",
       "9     10501\n",
       "10     7291\n",
       "13     5355\n",
       "14     1723\n",
       "11     1382\n",
       "7      1175\n",
       "12     1067\n",
       "6       933\n",
       "4       646\n",
       "15      576\n",
       "5       514\n",
       "8       433\n",
       "16      413\n",
       "3       333\n",
       "2       168\n",
       "1        51\n",
       "Name: count, dtype: int64"
      ]
     },
     "execution_count": 6,
     "metadata": {},
     "output_type": "execute_result"
    }
   ],
   "source": [
    "df['Education Number'].value_counts()"
   ]
  },
  {
   "cell_type": "markdown",
   "id": "70ca1fbc",
   "metadata": {},
   "source": [
    "## After looking at some columns in the data, we notice that there are '?' values\n",
    "## Let's convert to 'Other' to be consistent"
   ]
  },
  {
   "cell_type": "code",
   "execution_count": 7,
   "id": "a3e6678d",
   "metadata": {},
   "outputs": [],
   "source": [
    "df[\"Job Type\"] = df[\"Job Type\"].str.replace(\"?\", \"Other\")\n",
    "df[\"Country\"] = df[\"Country\"].str.replace(\"?\", \"Other\")\n",
    "df[\"Job Title\"] = df[\"Job Title\"].str.replace(\"?\", \"Other\")"
   ]
  },
  {
   "cell_type": "markdown",
   "id": "d9b05e73",
   "metadata": {},
   "source": [
    "## Separate out the features from the labels"
   ]
  },
  {
   "cell_type": "code",
   "execution_count": 8,
   "id": "cf0c7151",
   "metadata": {},
   "outputs": [],
   "source": [
    "df_y = df[\"Income\"]\n",
    "df_x = df.drop([\"Income\"], axis=1)\n",
    "df_copy = df.copy(deep=True)"
   ]
  },
  {
   "cell_type": "markdown",
   "id": "b3fcccae",
   "metadata": {},
   "source": [
    "## Find and separate the categorical columns"
   ]
  },
  {
   "cell_type": "code",
   "execution_count": 9,
   "id": "64cfcf48",
   "metadata": {},
   "outputs": [
    {
     "name": "stdout",
     "output_type": "stream",
     "text": [
      "<class 'sklearn.compose._column_transformer.make_column_selector'>\n",
      "<class 'list'>\n",
      "['Job Type', 'Education', 'Marital Status', 'Job Title', 'Relationship', 'Race', 'Gender', 'Country']\n"
     ]
    }
   ],
   "source": [
    "# categorical_cols_obj is a categorical object\n",
    "categorical_cols_obj = col_selector(dtype_include=object)\n",
    "print(type(categorical_cols_obj))\n",
    "\n",
    "# categorical_features is a list of  column names of features with catergorical data\n",
    "categorical_features = categorical_cols_obj(df_x)\n",
    "print(type(categorical_features))\n",
    "\n",
    "\n",
    "print(categorical_features)"
   ]
  },
  {
   "cell_type": "code",
   "execution_count": 10,
   "id": "a94609b5",
   "metadata": {},
   "outputs": [
    {
     "name": "stdout",
     "output_type": "stream",
     "text": [
      "            Job Type   Education       Marital Status           Job Title  \\\n",
      "0          State-gov   Bachelors        Never-married        Adm-clerical   \n",
      "1   Self-emp-not-inc   Bachelors   Married-civ-spouse     Exec-managerial   \n",
      "2            Private     HS-grad             Divorced   Handlers-cleaners   \n",
      "3            Private        11th   Married-civ-spouse   Handlers-cleaners   \n",
      "4            Private   Bachelors   Married-civ-spouse      Prof-specialty   \n",
      "\n",
      "     Relationship    Race   Gender         Country  \n",
      "0   Not-in-family   White     Male   United-States  \n",
      "1         Husband   White     Male   United-States  \n",
      "2   Not-in-family   White     Male   United-States  \n",
      "3         Husband   Black     Male   United-States  \n",
      "4            Wife   Black   Female            Cuba  \n"
     ]
    }
   ],
   "source": [
    "df_cat = df_x[categorical_features]\n",
    "print(df_cat.head())"
   ]
  },
  {
   "cell_type": "markdown",
   "id": "aeabea0c",
   "metadata": {},
   "source": [
    "## Conclusion\n",
    " We will apply One Hot Encoding in the final step with the preprocessor"
   ]
  },
  {
   "cell_type": "markdown",
   "id": "dfec330c",
   "metadata": {},
   "source": [
    "## 2. Identify the numerical features that are normally distributed using Shapiro Wilk's test and apply standard scaler on the features that are normally distributed and min-max on the non-normal numerical features."
   ]
  },
  {
   "cell_type": "code",
   "execution_count": 11,
   "id": "3cd41108",
   "metadata": {},
   "outputs": [],
   "source": [
    "from scipy import stats\n",
    "import seaborn as sns"
   ]
  },
  {
   "cell_type": "code",
   "execution_count": 12,
   "id": "43a6bbf5",
   "metadata": {},
   "outputs": [
    {
     "name": "stdout",
     "output_type": "stream",
     "text": [
      "['Age', 'Final Weight', 'Education Number', 'Capital Gain', 'Capital Loss', 'Hours per week']\n"
     ]
    }
   ],
   "source": [
    "# numeric_features is a list of column names of features with numeric data\n",
    "int_cols_obj = col_selector(dtype_include=\"int64\")\n",
    "numeric_features = int_cols_obj(df_x)\n",
    "\n",
    "print(numeric_features)"
   ]
  },
  {
   "cell_type": "markdown",
   "id": "08951a03",
   "metadata": {},
   "source": [
    "## Check for normal distribution visually using histograms"
   ]
  },
  {
   "cell_type": "code",
   "execution_count": 13,
   "id": "ef184f27",
   "metadata": {
    "scrolled": false
   },
   "outputs": [
    {
     "data": {
      "text/plain": [
       "<Axes: xlabel='Age', ylabel='Count'>"
      ]
     },
     "execution_count": 13,
     "metadata": {},
     "output_type": "execute_result"
    },
    {
     "data": {
      "image/png": "[encoded data removed]",
      "text/plain": [
       "<Figure size 640x480 with 1 Axes>"
      ]
     },
     "metadata": {},
     "output_type": "display_data"
    }
   ],
   "source": [
    "sns.histplot(data=df_x[\"Age\"], binwidth=5)"
   ]
  },
  {
   "cell_type": "code",
   "execution_count": 14,
   "id": "d014710e",
   "metadata": {
    "scrolled": false
   },
   "outputs": [
    {
     "data": {
      "text/plain": [
       "<Axes: xlabel='Education Number', ylabel='Count'>"
      ]
     },
     "execution_count": 14,
     "metadata": {},
     "output_type": "execute_result"
    },
    {
     "data": {
      "image/png": "[encoded data removed]",
      "text/plain": [
       "<Figure size 640x480 with 1 Axes>"
      ]
     },
     "metadata": {},
     "output_type": "display_data"
    }
   ],
   "source": [
    "sns.histplot(data=df_x[\"Education Number\"], binwidth=5)"
   ]
  },
  {
   "cell_type": "code",
   "execution_count": 15,
   "id": "0af3aa64",
   "metadata": {
    "scrolled": false
   },
   "outputs": [
    {
     "data": {
      "text/plain": [
       "<Axes: xlabel='Hours per week', ylabel='Count'>"
      ]
     },
     "execution_count": 15,
     "metadata": {},
     "output_type": "execute_result"
    },
    {
     "data": {
      "image/png": "[encoded data removed]",
      "text/plain": [
       "<Figure size 640x480 with 1 Axes>"
      ]
     },
     "metadata": {},
     "output_type": "display_data"
    }
   ],
   "source": [
    "sns.histplot(data=df_x[\"Hours per week\"], binwidth=5)"
   ]
  },
  {
   "cell_type": "code",
   "execution_count": 16,
   "id": "59358df9",
   "metadata": {},
   "outputs": [
    {
     "name": "stdout",
     "output_type": "stream",
     "text": [
      "Age\n",
      "ShapiroResult(statistic=0.9668066501617432, pvalue=0.0)\n",
      "\n",
      "Final Weight\n",
      "ShapiroResult(statistic=0.9223408699035645, pvalue=0.0)\n",
      "\n",
      "Education Number\n",
      "ShapiroResult(statistic=0.9264373779296875, pvalue=0.0)\n",
      "\n",
      "Capital Gain\n",
      "ShapiroResult(statistic=0.12271404266357422, pvalue=0.0)\n",
      "\n",
      "Capital Loss\n",
      "ShapiroResult(statistic=0.21831119060516357, pvalue=0.0)\n",
      "\n",
      "Hours per week\n",
      "ShapiroResult(statistic=0.8851711750030518, pvalue=0.0)\n",
      "\n"
     ]
    },
    {
     "name": "stderr",
     "output_type": "stream",
     "text": [
      "/Users/marconardin/Documents/berkextension_py_ml_class/ml_class_venv/lib/python3.8/site-packages/scipy/stats/_morestats.py:1816: UserWarning: p-value may not be accurate for N > 5000.\n",
      "  warnings.warn(\"p-value may not be accurate for N > 5000.\")\n"
     ]
    }
   ],
   "source": [
    "for feature in numeric_features:\n",
    "    shapiro = stats.shapiro(df_x[feature]) \n",
    "    print(feature)\n",
    "    print(shapiro)\n",
    "    print()"
   ]
  },
  {
   "cell_type": "markdown",
   "id": "4adfc217",
   "metadata": {},
   "source": [
    "## Conclusion\n",
    "- all of the numeric features have a pvalue of 0, so we reject the null hypothesis\n",
    "- none of the numeric features are normally distributed\n",
    "- we will use min max scaling instead of standard scaling for all the features\n",
    "\n",
    "### (see part 3)"
   ]
  },
  {
   "cell_type": "markdown",
   "id": "4bd4724f",
   "metadata": {},
   "source": [
    "## 3. Then use preprocessor and makepipeline (or pipeline) to automatically apply the transformations and logistic regression and make prediction. Print confusion matrix, accuracy score and AUC."
   ]
  },
  {
   "cell_type": "code",
   "execution_count": 17,
   "id": "f3edec52",
   "metadata": {},
   "outputs": [],
   "source": [
    "from sklearn import metrics, preprocessing\n",
    "from sklearn.pipeline import make_pipeline\n",
    "from sklearn.compose import ColumnTransformer\n",
    "from sklearn.linear_model import LogisticRegression\n",
    "from sklearn.model_selection import train_test_split\n",
    "from sklearn.metrics import confusion_matrix, ConfusionMatrixDisplay, roc_auc_score, roc_curve\n",
    "\n",
    "import matplotlib.pyplot as plt"
   ]
  },
  {
   "cell_type": "markdown",
   "id": "780c9afc",
   "metadata": {},
   "source": [
    "## First, the target feature is categorical and needs to be converted\n",
    "## we'll use LabelEncoder"
   ]
  },
  {
   "cell_type": "code",
   "execution_count": 18,
   "id": "58a8dfdf",
   "metadata": {},
   "outputs": [],
   "source": [
    "label_encoder = preprocessing.LabelEncoder()\n",
    "y = label_encoder.fit_transform(df_y)"
   ]
  },
  {
   "cell_type": "markdown",
   "id": "55157782",
   "metadata": {},
   "source": [
    "## Make the pipeline that applies the column transforms\n",
    "## Train Test split \n",
    "## Fit the Logistic Regression Model and\n",
    "## Get the model score (accuracy)"
   ]
  },
  {
   "cell_type": "code",
   "execution_count": 19,
   "id": "0c93f347",
   "metadata": {
    "scrolled": false
   },
   "outputs": [
    {
     "name": "stdout",
     "output_type": "stream",
     "text": [
      "model score: 0.846\n"
     ]
    }
   ],
   "source": [
    "np.random.seed(0)\n",
    "\n",
    "# features\n",
    "x = df_x\n",
    "\n",
    "# apply Standard Scaler on numerical features and\n",
    "# apply One Hot Encoder on categorical features\n",
    "preprocessor = ColumnTransformer(\n",
    "               transformers=[\n",
    "               ('num', MinMaxScaler(), numeric_features),\n",
    "               ('cat', OneHotEncoder(), categorical_features)])\n",
    "\n",
    "clf = make_pipeline(preprocessor, LogisticRegression(max_iter=500))\n",
    "\n",
    "x_train, x_test, y_train, y_test = train_test_split(x, y, test_size=0.2,\n",
    "                                                    random_state=0)\n",
    "\n",
    "clf.fit(x_train, y_train)\n",
    "print(\"model score: %.3f\" % clf.score(x_test, y_test))"
   ]
  },
  {
   "cell_type": "markdown",
   "id": "d7a4272a",
   "metadata": {},
   "source": [
    "## Accuracy is 84.6%\n",
    "This is not bad, we can try to increase this maybe by doing some feature selection and/or hyperparameter tuning\n",
    "i.e. for hyperparameter tuning, we could try training Logistic Regression models with different penalties (L1 or L2), C values, or solvers (like lbfgs or liblinear)"
   ]
  },
  {
   "cell_type": "markdown",
   "id": "9cd61de8",
   "metadata": {},
   "source": [
    "## Create prediction for Confusion Matrix"
   ]
  },
  {
   "cell_type": "code",
   "execution_count": 20,
   "id": "10a67d1d",
   "metadata": {},
   "outputs": [],
   "source": [
    "y_pred = clf.predict(x_test)"
   ]
  },
  {
   "cell_type": "markdown",
   "id": "b066c9e8",
   "metadata": {},
   "source": [
    "## Show Confusion Matrix"
   ]
  },
  {
   "cell_type": "code",
   "execution_count": 21,
   "id": "d8b78fe8",
   "metadata": {},
   "outputs": [
    {
     "name": "stdout",
     "output_type": "stream",
     "text": [
      "[[4549  369]\n",
      " [ 636  959]]\n"
     ]
    },
    {
     "data": {
      "image/png": "[encoded data removed]",
      "text/plain": [
       "<Figure size 640x480 with 2 Axes>"
      ]
     },
     "metadata": {},
     "output_type": "display_data"
    }
   ],
   "source": [
    "print(confusion_matrix(y_test,y_pred))\n",
    "cm = confusion_matrix(y_test, y_pred)\n",
    "disp = ConfusionMatrixDisplay(confusion_matrix=cm)\n",
    "disp.plot()\n",
    "plt.show()"
   ]
  },
  {
   "cell_type": "markdown",
   "id": "1b0fe842",
   "metadata": {},
   "source": [
    "## Get probabilities for AUC and ROC"
   ]
  },
  {
   "cell_type": "code",
   "execution_count": 22,
   "id": "867cfda9",
   "metadata": {},
   "outputs": [],
   "source": [
    "y_prob = clf.predict_proba(x_test)\n",
    "y_prob = y_prob[:, 1]"
   ]
  },
  {
   "cell_type": "markdown",
   "id": "21b7ec23",
   "metadata": {},
   "source": [
    "## Calculate AUC"
   ]
  },
  {
   "cell_type": "code",
   "execution_count": 23,
   "id": "ce3d636d",
   "metadata": {},
   "outputs": [
    {
     "name": "stdout",
     "output_type": "stream",
     "text": [
      "Logistic AUC = 0.90\n"
     ]
    }
   ],
   "source": [
    "logit_roc_auc = roc_auc_score(y_test, y_prob)\n",
    "print(\"Logistic AUC = %0.2f\" %logit_roc_auc)"
   ]
  },
  {
   "cell_type": "markdown",
   "id": "5e7e4e21",
   "metadata": {},
   "source": [
    "## Plot ROC curve"
   ]
  },
  {
   "cell_type": "code",
   "execution_count": 24,
   "id": "bddebbc3",
   "metadata": {},
   "outputs": [],
   "source": [
    "fpr, tpr, threshold = roc_curve(y_test, y_prob)"
   ]
  },
  {
   "cell_type": "code",
   "execution_count": 25,
   "id": "14e20563",
   "metadata": {},
   "outputs": [
    {
     "data": {
      "image/png": "[encoded data removed]",
      "text/plain": [
       "<Figure size 640x480 with 1 Axes>"
      ]
     },
     "metadata": {},
     "output_type": "display_data"
    }
   ],
   "source": [
    "plt.figure()\n",
    "plt.plot(fpr, tpr, label='ROC curve (area = %0.2f)' %logit_roc_auc)\n",
    "plt.plot([0,1], [0,1], 'k--')\n",
    "plt.xlim([0.0, 1.0])\n",
    "plt.ylim([0.0, 1.0])\n",
    "plt.xlabel('False Positive Rate')\n",
    "plt.ylabel('True Positive Rate')\n",
    "plt.title('Receiver operating characteristic example')\n",
    "plt.legend(loc=\"lower right\")\n",
    "plt.show()"
   ]
  },
  {
   "cell_type": "markdown",
   "id": "1c8b81ef",
   "metadata": {},
   "source": [
    "## Conclusion:\n",
    "The AUC = 0.90 which is high. We're definitely better than randomly guessing income which would be represented as AUC = 0.5"
   ]
  },
  {
   "cell_type": "code",
   "execution_count": null,
   "id": "ec8385a6",
   "metadata": {},
   "outputs": [],
   "source": []
  }
 ],
 "metadata": {
  "kernelspec": {
   "display_name": "python_ml_venv",
   "language": "python",
   "name": "python_ml_venv"
  },
  "language_info": {
   "codemirror_mode": {
    "name": "ipython",
    "version": 3
   },
   "file_extension": ".py",
   "mimetype": "text/x-python",
   "name": "python",
   "nbconvert_exporter": "python",
   "pygments_lexer": "ipython3",
   "version": "3.8.2"
  }
 },
 "nbformat": 4,
 "nbformat_minor": 5
}
