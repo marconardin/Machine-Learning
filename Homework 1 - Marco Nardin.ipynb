{
 "cells": [
  {
   "cell_type": "code",
   "execution_count": 23,
   "id": "ff659c19",
   "metadata": {},
   "outputs": [],
   "source": [
    "import pandas as pd\n",
    "import numpy as np\n",
    "import matplotlib.pyplot as plt"
   ]
  },
  {
   "cell_type": "markdown",
   "id": "34249019",
   "metadata": {},
   "source": [
    "# Question 1: (5 points) Read dictionary.csv file (this file is in the Files section of your class portal) as a Pandas DataFrame and perform the following:"
   ]
  },
  {
   "cell_type": "code",
   "execution_count": 24,
   "id": "a6c6be70",
   "metadata": {},
   "outputs": [],
   "source": [
    "dictionary = pd.read_csv('class3/dictionary.csv')"
   ]
  },
  {
   "cell_type": "markdown",
   "id": "85551c7a",
   "metadata": {},
   "source": [
    "## a) Print the column names."
   ]
  },
  {
   "cell_type": "code",
   "execution_count": 25,
   "id": "e68061bd",
   "metadata": {},
   "outputs": [
    {
     "name": "stdout",
     "output_type": "stream",
     "text": [
      "Index(['Country', 'Code', 'Population', 'GDP per Capita'], dtype='object')\n"
     ]
    }
   ],
   "source": [
    "print(dictionary.columns)"
   ]
  },
  {
   "cell_type": "markdown",
   "id": "d0ed3903",
   "metadata": {},
   "source": [
    "## b) Print the shape."
   ]
  },
  {
   "cell_type": "code",
   "execution_count": 26,
   "id": "8c981f2d",
   "metadata": {},
   "outputs": [
    {
     "name": "stdout",
     "output_type": "stream",
     "text": [
      "(201, 4)\n"
     ]
    }
   ],
   "source": [
    "print(dictionary.shape)"
   ]
  },
  {
   "cell_type": "markdown",
   "id": "41464585",
   "metadata": {},
   "source": [
    "## c) Check if there any missing values or not a number in the columns. Print the missing or not a number count for each column."
   ]
  },
  {
   "cell_type": "code",
   "execution_count": 27,
   "id": "fcd5421a",
   "metadata": {},
   "outputs": [
    {
     "name": "stdout",
     "output_type": "stream",
     "text": [
      "Column \"Country\" in dictionary.csv has 0 null values\n",
      "Column \"Code\" in dictionary.csv has 0 null values\n",
      "Column \"Population\" in dictionary.csv has 5 null values\n",
      "Column \"GDP per Capita\" in dictionary.csv has 25 null values\n"
     ]
    }
   ],
   "source": [
    "for col in dictionary.columns:\n",
    "    print(f\"Column \\\"{col}\\\" in dictionary.csv has {dictionary[col].isnull().sum()} null values\")"
   ]
  },
  {
   "cell_type": "markdown",
   "id": "0583950b",
   "metadata": {},
   "source": [
    "## d) Find mean of Population and mean of GDP per Capita and print the values."
   ]
  },
  {
   "cell_type": "code",
   "execution_count": 28,
   "id": "fab7fcd3",
   "metadata": {},
   "outputs": [
    {
     "name": "stdout",
     "output_type": "stream",
     "text": [
      "The mean of the \"Population\" in dictionary is 37228250.14285714\n",
      "The mean of the \"GDP per Capita\" in dictionary is 12882.556130569323\n"
     ]
    }
   ],
   "source": [
    "print(f'The mean of the \"Population\" in dictionary is {dictionary[\"Population\"].mean()}')\n",
    "print(f'The mean of the \"GDP per Capita\" in dictionary is {dictionary[\"GDP per Capita\"].mean()}')"
   ]
  },
  {
   "cell_type": "markdown",
   "id": "9ae84bf1",
   "metadata": {},
   "source": [
    "## e) Propose a method to fill the missing values or not a number for each. Explain why you choose this method."
   ]
  },
  {
   "cell_type": "markdown",
   "id": "abf76472",
   "metadata": {},
   "source": [
    "### First let's take a look at the distribution of the variables we need to fill"
   ]
  },
  {
   "cell_type": "code",
   "execution_count": 29,
   "id": "cbfd53dc",
   "metadata": {},
   "outputs": [
    {
     "data": {
      "text/plain": [
       "count    1.960000e+02\n",
       "mean     3.722825e+07\n",
       "std      1.399655e+08\n",
       "min      1.022200e+04\n",
       "25%      1.638278e+06\n",
       "50%      7.450124e+06\n",
       "75%      2.557454e+07\n",
       "max      1.371220e+09\n",
       "Name: Population, dtype: float64"
      ]
     },
     "execution_count": 29,
     "metadata": {},
     "output_type": "execute_result"
    }
   ],
   "source": [
    "dictionary[\"Population\"].describe()"
   ]
  },
  {
   "cell_type": "code",
   "execution_count": 30,
   "id": "4c4bf7fd",
   "metadata": {},
   "outputs": [
    {
     "data": {
      "text/plain": [
       "<Axes: >"
      ]
     },
     "execution_count": 30,
     "metadata": {},
     "output_type": "execute_result"
    },
    {
     "data": {
      "image/png": "[encoded data removed]",
      "text/plain": [
       "<Figure size 640x480 with 1 Axes>"
      ]
     },
     "metadata": {},
     "output_type": "display_data"
    }
   ],
   "source": [
    "dictionary[\"Population\"].hist()"
   ]
  },
  {
   "cell_type": "code",
   "execution_count": 31,
   "id": "aa254ed4",
   "metadata": {},
   "outputs": [
    {
     "data": {
      "text/plain": [
       "<Axes: >"
      ]
     },
     "execution_count": 31,
     "metadata": {},
     "output_type": "execute_result"
    },
    {
     "data": {
      "image/png": "[encoded data removed]",
      "text/plain": [
       "<Figure size 640x480 with 1 Axes>"
      ]
     },
     "metadata": {},
     "output_type": "display_data"
    }
   ],
   "source": [
    "dictionary[\"GDP per Capita\"].hist()"
   ]
  },
  {
   "cell_type": "markdown",
   "id": "8f7766b5",
   "metadata": {},
   "source": [
    "### Some potential options: \n",
    "#### 1) Ffill or Bfill \n",
    "     Pros: Easy to implement \n",
    "     Cons: Assumes that data in columns next to each other will be close, but we can't assume this based on our data (alphabetical ordering by country name likely does not correlate with population or GDP). \n",
    "#### 2) Fill in missing values with the mean, median, or mode \n",
    "     Pros: Easy to implement. Should preserve statistical properties of the data (i.e. mean will be close if not the same) \n",
    "     Cons: Is still a guess. Does not take into account potential relationships between variables. \n",
    "#### 3) Imputation\n",
    " \n",
    " ## Let's go with option 2) Fill NA with mean (Reasons being that it's easy to implement and preserves statistical properties of data)"
   ]
  },
  {
   "cell_type": "markdown",
   "id": "df68a1a1",
   "metadata": {},
   "source": [
    "### Let's see how the stats change when doing the fill"
   ]
  },
  {
   "cell_type": "code",
   "execution_count": 32,
   "id": "eb1e2716",
   "metadata": {},
   "outputs": [
    {
     "name": "stdout",
     "output_type": "stream",
     "text": [
      "count    1.960000e+02\n",
      "mean     3.722825e+07\n",
      "std      1.399655e+08\n",
      "min      1.022200e+04\n",
      "25%      1.638278e+06\n",
      "50%      7.450124e+06\n",
      "75%      2.557454e+07\n",
      "max      1.371220e+09\n",
      "Name: Population, dtype: float64\n",
      "count    2.010000e+02\n",
      "mean     3.722825e+07\n",
      "std      1.382049e+08\n",
      "min      1.022200e+04\n",
      "25%      1.844325e+06\n",
      "50%      8.075060e+06\n",
      "75%      2.851370e+07\n",
      "max      1.371220e+09\n",
      "Name: Population, dtype: float64\n"
     ]
    }
   ],
   "source": [
    "print(dictionary['Population'].describe())\n",
    "dictionary['Population'].fillna(value=dictionary['Population'].mean(), inplace=True)\n",
    "print(dictionary['Population'].describe())"
   ]
  },
  {
   "cell_type": "code",
   "execution_count": 33,
   "id": "eb3c440b",
   "metadata": {},
   "outputs": [
    {
     "name": "stdout",
     "output_type": "stream",
     "text": [
      "count       176.000000\n",
      "mean      12882.556131\n",
      "std       17747.141203\n",
      "min         277.068309\n",
      "25%        1781.096847\n",
      "50%        5233.583395\n",
      "75%       15494.683646\n",
      "max      101449.968168\n",
      "Name: GDP per Capita, dtype: float64\n",
      "count       201.000000\n",
      "mean      12882.556131\n",
      "std       16600.930494\n",
      "min         277.068309\n",
      "25%        2111.138024\n",
      "50%        6993.477360\n",
      "75%       13498.661406\n",
      "max      101449.968168\n",
      "Name: GDP per Capita, dtype: float64\n"
     ]
    }
   ],
   "source": [
    "print(dictionary['GDP per Capita'].describe())\n",
    "dictionary['GDP per Capita'].fillna(value=dictionary['GDP per Capita'].mean(), inplace=True)\n",
    "print(dictionary['GDP per Capita'].describe())"
   ]
  },
  {
   "cell_type": "markdown",
   "id": "671b6686",
   "metadata": {},
   "source": [
    "# Question 2 (5 points): Use Car_Purchasing_Data.csv file, this file is in the Linear Regression folder. "
   ]
  },
  {
   "cell_type": "code",
   "execution_count": 34,
   "id": "cbbb54fb",
   "metadata": {},
   "outputs": [],
   "source": [
    "car_purchase_data = pd.read_csv('class2/LinearReg/Car_Purchasing_Data.csv')"
   ]
  },
  {
   "cell_type": "code",
   "execution_count": 35,
   "id": "588ef375",
   "metadata": {},
   "outputs": [
    {
     "name": "stdout",
     "output_type": "stream",
     "text": [
      "<class 'pandas.core.frame.DataFrame'>\n",
      "RangeIndex: 500 entries, 0 to 499\n",
      "Data columns (total 9 columns):\n",
      " #   Column               Non-Null Count  Dtype  \n",
      "---  ------               --------------  -----  \n",
      " 0   Customer Name        500 non-null    object \n",
      " 1   Customer e-mail      500 non-null    object \n",
      " 2   Country              500 non-null    object \n",
      " 3   Gender               500 non-null    int64  \n",
      " 4   Age                  500 non-null    int64  \n",
      " 5   Annual Salary        500 non-null    float64\n",
      " 6   Credit Card Debt     500 non-null    float64\n",
      " 7   Net Worth            500 non-null    float64\n",
      " 8   Car Purchase Amount  500 non-null    float64\n",
      "dtypes: float64(4), int64(2), object(3)\n",
      "memory usage: 35.3+ KB\n"
     ]
    }
   ],
   "source": [
    "car_purchase_data.info()"
   ]
  },
  {
   "cell_type": "markdown",
   "id": "72217965",
   "metadata": {},
   "source": [
    "## In the auto example, find the multi-linear relationship between 'Age','Annual Salary', 'Net Worth' with 'Car Purchase Amount'. "
   ]
  },
  {
   "cell_type": "code",
   "execution_count": 36,
   "id": "3d4b3290",
   "metadata": {},
   "outputs": [],
   "source": [
    "from sklearn import linear_model\n",
    "from sklearn.model_selection import train_test_split \n",
    "from sklearn.preprocessing import StandardScaler\n",
    "from sklearn.metrics import mean_squared_error\n",
    "from sklearn.metrics import r2_score"
   ]
  },
  {
   "cell_type": "code",
   "execution_count": 37,
   "id": "9ecd0699",
   "metadata": {},
   "outputs": [],
   "source": [
    "# Create an instance of LinearRegression class\n",
    "reg = linear_model.LinearRegression()"
   ]
  },
  {
   "cell_type": "code",
   "execution_count": 38,
   "id": "3e2cd1a3",
   "metadata": {},
   "outputs": [],
   "source": [
    "# Create an instance of Standard Scaler\n",
    "a_scaler = StandardScaler() "
   ]
  },
  {
   "cell_type": "code",
   "execution_count": 39,
   "id": "faede78b",
   "metadata": {},
   "outputs": [],
   "source": [
    "independent_vars = a_scaler.fit_transform(car_purchase_data[['Age', 'Annual Salary', 'Net Worth']])"
   ]
  },
  {
   "cell_type": "code",
   "execution_count": 40,
   "id": "27c364cb",
   "metadata": {},
   "outputs": [],
   "source": [
    "# Split into train and test\n",
    "x_train, x_test, y_train, y_test = \\\n",
    "train_test_split(independent_vars, \n",
    "                 car_purchase_data[\"Car Purchase Amount\"], \n",
    "                 test_size=0.2, \n",
    "                 random_state=4)"
   ]
  },
  {
   "cell_type": "code",
   "execution_count": 41,
   "id": "f06f4e9e",
   "metadata": {},
   "outputs": [
    {
     "data": {
      "text/html": [
       "<style>#sk-container-id-2 {color: black;background-color: white;}#sk-container-id-2 pre{padding: 0;}#sk-container-id-2 div.sk-toggleable {background-color: white;}#sk-container-id-2 label.sk-toggleable__label {cursor: pointer;display: block;width: 100%;margin-bottom: 0;padding: 0.3em;box-sizing: border-box;text-align: center;}#sk-container-id-2 label.sk-toggleable__label-arrow:before {content: \"▸\";float: left;margin-right: 0.25em;color: #696969;}#sk-container-id-2 label.sk-toggleable__label-arrow:hover:before {color: black;}#sk-container-id-2 div.sk-estimator:hover label.sk-toggleable__label-arrow:before {color: black;}#sk-container-id-2 div.sk-toggleable__content {max-height: 0;max-width: 0;overflow: hidden;text-align: left;background-color: #f0f8ff;}#sk-container-id-2 div.sk-toggleable__content pre {margin: 0.2em;color: black;border-radius: 0.25em;background-color: #f0f8ff;}#sk-container-id-2 input.sk-toggleable__control:checked~div.sk-toggleable__content {max-height: 200px;max-width: 100%;overflow: auto;}#sk-container-id-2 input.sk-toggleable__control:checked~label.sk-toggleable__label-arrow:before {content: \"▾\";}#sk-container-id-2 div.sk-estimator input.sk-toggleable__control:checked~label.sk-toggleable__label {background-color: #d4ebff;}#sk-container-id-2 div.sk-label input.sk-toggleable__control:checked~label.sk-toggleable__label {background-color: #d4ebff;}#sk-container-id-2 input.sk-hidden--visually {border: 0;clip: rect(1px 1px 1px 1px);clip: rect(1px, 1px, 1px, 1px);height: 1px;margin: -1px;overflow: hidden;padding: 0;position: absolute;width: 1px;}#sk-container-id-2 div.sk-estimator {font-family: monospace;background-color: #f0f8ff;border: 1px dotted black;border-radius: 0.25em;box-sizing: border-box;margin-bottom: 0.5em;}#sk-container-id-2 div.sk-estimator:hover {background-color: #d4ebff;}#sk-container-id-2 div.sk-parallel-item::after {content: \"\";width: 100%;border-bottom: 1px solid gray;flex-grow: 1;}#sk-container-id-2 div.sk-label:hover label.sk-toggleable__label {background-color: #d4ebff;}#sk-container-id-2 div.sk-serial::before {content: \"\";position: absolute;border-left: 1px solid gray;box-sizing: border-box;top: 0;bottom: 0;left: 50%;z-index: 0;}#sk-container-id-2 div.sk-serial {display: flex;flex-direction: column;align-items: center;background-color: white;padding-right: 0.2em;padding-left: 0.2em;position: relative;}#sk-container-id-2 div.sk-item {position: relative;z-index: 1;}#sk-container-id-2 div.sk-parallel {display: flex;align-items: stretch;justify-content: center;background-color: white;position: relative;}#sk-container-id-2 div.sk-item::before, #sk-container-id-2 div.sk-parallel-item::before {content: \"\";position: absolute;border-left: 1px solid gray;box-sizing: border-box;top: 0;bottom: 0;left: 50%;z-index: -1;}#sk-container-id-2 div.sk-parallel-item {display: flex;flex-direction: column;z-index: 1;position: relative;background-color: white;}#sk-container-id-2 div.sk-parallel-item:first-child::after {align-self: flex-end;width: 50%;}#sk-container-id-2 div.sk-parallel-item:last-child::after {align-self: flex-start;width: 50%;}#sk-container-id-2 div.sk-parallel-item:only-child::after {width: 0;}#sk-container-id-2 div.sk-dashed-wrapped {border: 1px dashed gray;margin: 0 0.4em 0.5em 0.4em;box-sizing: border-box;padding-bottom: 0.4em;background-color: white;}#sk-container-id-2 div.sk-label label {font-family: monospace;font-weight: bold;display: inline-block;line-height: 1.2em;}#sk-container-id-2 div.sk-label-container {text-align: center;}#sk-container-id-2 div.sk-container {/* jupyter's `normalize.less` sets `[hidden] { display: none; }` but bootstrap.min.css set `[hidden] { display: none !important; }` so we also need the `!important` here to be able to override the default hidden behavior on the sphinx rendered scikit-learn.org. See: https://github.com/scikit-learn/scikit-learn/issues/21755 */display: inline-block !important;position: relative;}#sk-container-id-2 div.sk-text-repr-fallback {display: none;}</style><div id=\"sk-container-id-2\" class=\"sk-top-container\"><div class=\"sk-text-repr-fallback\"><pre>LinearRegression()</pre><b>In a Jupyter environment, please rerun this cell to show the HTML representation or trust the notebook. <br />On GitHub, the HTML representation is unable to render, please try loading this page with nbviewer.org.</b></div><div class=\"sk-container\" hidden><div class=\"sk-item\"><div class=\"sk-estimator sk-toggleable\"><input class=\"sk-toggleable__control sk-hidden--visually\" id=\"sk-estimator-id-2\" type=\"checkbox\" checked><label for=\"sk-estimator-id-2\" class=\"sk-toggleable__label sk-toggleable__label-arrow\">LinearRegression</label><div class=\"sk-toggleable__content\"><pre>LinearRegression()</pre></div></div></div></div></div>"
      ],
      "text/plain": [
       "LinearRegression()"
      ]
     },
     "execution_count": 41,
     "metadata": {},
     "output_type": "execute_result"
    }
   ],
   "source": [
    "# Fit the data\n",
    "reg.fit(x_train, y_train)"
   ]
  },
  {
   "cell_type": "code",
   "execution_count": 42,
   "id": "04041fde",
   "metadata": {},
   "outputs": [
    {
     "name": "stdout",
     "output_type": "stream",
     "text": [
      "[6698.99994256 6569.701515   5019.75983599]\n",
      "44203.833191718\n"
     ]
    }
   ],
   "source": [
    "print(reg.coef_)\n",
    "print(reg.intercept_)"
   ]
  },
  {
   "cell_type": "markdown",
   "id": "d11678b4",
   "metadata": {},
   "source": [
    "## Car Purchase Amount = Scaler Age\\*6699.0 + Scaler Annual Salary\\*6569.7 + Scaler Net Worth\\*5019.8 + 44203.8"
   ]
  },
  {
   "cell_type": "markdown",
   "id": "1954c84c",
   "metadata": {},
   "source": [
    "## Find the mean squared error and r-squared for test and train set"
   ]
  },
  {
   "cell_type": "code",
   "execution_count": 43,
   "id": "cd6254f6",
   "metadata": {},
   "outputs": [
    {
     "name": "stdout",
     "output_type": "stream",
     "text": [
      "MSE test: 60987.69459101417\n",
      "MSE train: 57696.85385835456\n",
      "r-squared for the test data:  0.9994323113012908\n",
      "r-squared for the train data:  0.9995037057564383\n"
     ]
    }
   ],
   "source": [
    "# MSE test\n",
    "# yhat is the predicted value of y using the x_test data with the linear regression model\n",
    "yhat = reg.predict(x_test) \n",
    "mse_test = mean_squared_error(y_test, yhat)\n",
    "print(f\"MSE test: {mse_test}\")\n",
    "\n",
    "# MSE train\n",
    "# the predicted y values for the x_train data plugged into the regression model\n",
    "y_train_predict = reg.predict(x_train)\n",
    "mse_train = mean_squared_error(y_train, y_train_predict)\n",
    "print(f\"MSE train: {mse_train}\")\n",
    "\n",
    "# R2 test\n",
    "print(\"r-squared for the test data: \", r2_score(y_test, yhat))\n",
    "\n",
    "# R2 train\n",
    "print(\"r-squared for the train data: \", r2_score(y_train, y_train_predict))"
   ]
  },
  {
   "cell_type": "markdown",
   "id": "da8af217",
   "metadata": {},
   "source": [
    "## Make a conclusion"
   ]
  },
  {
   "cell_type": "markdown",
   "id": "7817897c",
   "metadata": {},
   "source": [
    "## MSE\n",
    "### MSE for test is 60,987.7 which is higher than the MSE for train at 57,696.9\n",
    "### This suggests that the model might be overfitted\n",
    "\n",
    "### Next steps: We could consider changing feature selection (adding or removing independent variables from the linear regression)\n",
    "### Or we could try using regularization (LASSO, Ridge, or Elastic)\n",
    "\n",
    "## R-squared\n",
    "### R-squared for test is 0.9994 while R-squared for train is 0.9995\n",
    "### These are both high and close to each other in value, which suggests the model is not overfit and performs well on new data\n",
    "\n",
    "## Conclusion - Using Age, Annual Salary, and Net worth as independent variables in a multilinear regression do a good job predicting Car Purchase Amount\n",
    "### Regularization or feature selection can be explored to further improve this model if needed"
   ]
  },
  {
   "cell_type": "code",
   "execution_count": 44,
   "id": "df3c2783",
   "metadata": {},
   "outputs": [
    {
     "name": "stdout",
     "output_type": "stream",
     "text": [
      "1.057036744858543\n",
      "0.057036744858543036\n"
     ]
    }
   ],
   "source": [
    "# Since MSE has no upper bound, we compute the ratio between \n",
    "# mse_test and mse_train or difference to see if \n",
    "# ratio is close to one and difference is less than 5%\n",
    "\n",
    "r1 = mse_test/mse_train\n",
    "diff1 = np.abs((mse_train - mse_test) / mse_train)\n",
    "\n",
    "print(r1)\n",
    "print(diff1)"
   ]
  },
  {
   "cell_type": "code",
   "execution_count": null,
   "id": "9bc0b04b",
   "metadata": {},
   "outputs": [],
   "source": []
  }
 ],
 "metadata": {
  "kernelspec": {
   "display_name": "python_ml_venv",
   "language": "python",
   "name": "python_ml_venv"
  },
  "language_info": {
   "codemirror_mode": {
    "name": "ipython",
    "version": 3
   },
   "file_extension": ".py",
   "mimetype": "text/x-python",
   "name": "python",
   "nbconvert_exporter": "python",
   "pygments_lexer": "ipython3",
   "version": "3.8.2"
  }
 },
 "nbformat": 4,
 "nbformat_minor": 5
}
