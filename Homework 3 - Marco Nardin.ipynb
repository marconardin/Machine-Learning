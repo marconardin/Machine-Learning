{
 "cells": [
  {
   "cell_type": "markdown",
   "id": "b6b11a5e",
   "metadata": {},
   "source": [
    "Instructions: Have all the code for all the questions in one Jupyter notebook and upload the file at the time of submission. I will only consider this file format for grading. So, after you uploaded the file, check the file extension and if it is not an ipynb, then upload the right file.\n",
    "\n",
    "Consider student_performance dataset.\n",
    "\n",
    "Details about the dataset:\n",
    "\n",
    "This data approach student achievement in secondary education of two Portuguese schools. The data attributes include student grades, demographic, social and school related features) and it was collected by using school reports and questionnaires. Two datasets are provided regarding the performance in two distinct subjects: Mathematics (mat) and Portuguese language (por). In [Cortez and Silva, 2008], the two datasets were modeled under binary/five-level classification and regression tasks. Important note: the target attribute G3 has a strong correlation with attributes G2 and G1. This occurs because G3 is the final year grade (issued at the 3rd period), while G1 and G2 correspond to the 1st and 2nd-period grades. It is more difficult to predict G3 without G2 and G1, but such prediction is much more useful (see paper source for more details).\n",
    "\n",
    "Do the following:\n",
    "\n",
    "1) Find out the features that are important.\n",
    "\n",
    "2) Convert categorical features to numeric.\n",
    "\n",
    "2) Use important features to build the following:\n",
    "\n",
    "a) Apply SVM along with GridSearchCV to determine the best parameters \n",
    "for kernel and C. Use the best parameters from the search and build an SVC model and compute confusion matrix, classification report and accuracy.\n",
    "\n",
    "b) Likewise, use GridSearchCV to find the best number of trees for Random Forest and then build Random Forest Classifier and compute confusion matrix, classification report and accuracy.\n",
    "\n",
    "Also read about RandomSearchCV.  And explain the difference between RandomSearchCV and GridSearchCV.\n"
   ]
  },
  {
   "cell_type": "markdown",
   "id": "d3becdc7",
   "metadata": {},
   "source": [
    "From [Cortez and Silva, 2008]http://www3.dsi.uminho.pt/pcortez/student.pdf\n",
    "\"\"\"\n",
    "The results show that a good predictive accuracy\n",
    "can be achieved, provided that the first and/or second\n",
    "school period grades are available. Although student\n",
    "achievement is highly influenced by past evaluations, an\n",
    "explanatory analysis has shown that there are also other\n",
    "relevant features (e.g. number of absences, parent’s job\n",
    "and education, alcohol consumption\n",
    "\"\"\""
   ]
  },
  {
   "cell_type": "code",
   "execution_count": 100,
   "id": "4f1e138e",
   "metadata": {},
   "outputs": [],
   "source": [
    "import pandas as pd\n",
    "import numpy as np"
   ]
  },
  {
   "cell_type": "code",
   "execution_count": 101,
   "id": "12aaf543",
   "metadata": {},
   "outputs": [],
   "source": [
    "np.random.seed(42)"
   ]
  },
  {
   "cell_type": "markdown",
   "id": "f3352851",
   "metadata": {},
   "source": [
    "## Read in dataset"
   ]
  },
  {
   "cell_type": "code",
   "execution_count": 102,
   "id": "a83f4f73",
   "metadata": {},
   "outputs": [],
   "source": [
    "mat_df = pd.read_csv('student_dataset/student-mat.csv', sep=';')"
   ]
  },
  {
   "cell_type": "code",
   "execution_count": 103,
   "id": "6393f2cd",
   "metadata": {},
   "outputs": [],
   "source": [
    "por_df = pd.read_csv('student_dataset/student-por.csv', sep=';')"
   ]
  },
  {
   "cell_type": "code",
   "execution_count": 104,
   "id": "475d1a12",
   "metadata": {},
   "outputs": [
    {
     "name": "stdout",
     "output_type": "stream",
     "text": [
      "<class 'pandas.core.frame.DataFrame'>\n",
      "RangeIndex: 395 entries, 0 to 394\n",
      "Data columns (total 33 columns):\n",
      " #   Column      Non-Null Count  Dtype \n",
      "---  ------      --------------  ----- \n",
      " 0   school      395 non-null    object\n",
      " 1   sex         395 non-null    object\n",
      " 2   age         395 non-null    int64 \n",
      " 3   address     395 non-null    object\n",
      " 4   famsize     395 non-null    object\n",
      " 5   Pstatus     395 non-null    object\n",
      " 6   Medu        395 non-null    int64 \n",
      " 7   Fedu        395 non-null    int64 \n",
      " 8   Mjob        395 non-null    object\n",
      " 9   Fjob        395 non-null    object\n",
      " 10  reason      395 non-null    object\n",
      " 11  guardian    395 non-null    object\n",
      " 12  traveltime  395 non-null    int64 \n",
      " 13  studytime   395 non-null    int64 \n",
      " 14  failures    395 non-null    int64 \n",
      " 15  schoolsup   395 non-null    object\n",
      " 16  famsup      395 non-null    object\n",
      " 17  paid        395 non-null    object\n",
      " 18  activities  395 non-null    object\n",
      " 19  nursery     395 non-null    object\n",
      " 20  higher      395 non-null    object\n",
      " 21  internet    395 non-null    object\n",
      " 22  romantic    395 non-null    object\n",
      " 23  famrel      395 non-null    int64 \n",
      " 24  freetime    395 non-null    int64 \n",
      " 25  goout       395 non-null    int64 \n",
      " 26  Dalc        395 non-null    int64 \n",
      " 27  Walc        395 non-null    int64 \n",
      " 28  health      395 non-null    int64 \n",
      " 29  absences    395 non-null    int64 \n",
      " 30  G1          395 non-null    int64 \n",
      " 31  G2          395 non-null    int64 \n",
      " 32  G3          395 non-null    int64 \n",
      "dtypes: int64(16), object(17)\n",
      "memory usage: 102.0+ KB\n"
     ]
    }
   ],
   "source": [
    "mat_df.info()"
   ]
  },
  {
   "cell_type": "code",
   "execution_count": 105,
   "id": "d6792395",
   "metadata": {},
   "outputs": [
    {
     "name": "stdout",
     "output_type": "stream",
     "text": [
      "<class 'pandas.core.frame.DataFrame'>\n",
      "RangeIndex: 649 entries, 0 to 648\n",
      "Data columns (total 33 columns):\n",
      " #   Column      Non-Null Count  Dtype \n",
      "---  ------      --------------  ----- \n",
      " 0   school      649 non-null    object\n",
      " 1   sex         649 non-null    object\n",
      " 2   age         649 non-null    int64 \n",
      " 3   address     649 non-null    object\n",
      " 4   famsize     649 non-null    object\n",
      " 5   Pstatus     649 non-null    object\n",
      " 6   Medu        649 non-null    int64 \n",
      " 7   Fedu        649 non-null    int64 \n",
      " 8   Mjob        649 non-null    object\n",
      " 9   Fjob        649 non-null    object\n",
      " 10  reason      649 non-null    object\n",
      " 11  guardian    649 non-null    object\n",
      " 12  traveltime  649 non-null    int64 \n",
      " 13  studytime   649 non-null    int64 \n",
      " 14  failures    649 non-null    int64 \n",
      " 15  schoolsup   649 non-null    object\n",
      " 16  famsup      649 non-null    object\n",
      " 17  paid        649 non-null    object\n",
      " 18  activities  649 non-null    object\n",
      " 19  nursery     649 non-null    object\n",
      " 20  higher      649 non-null    object\n",
      " 21  internet    649 non-null    object\n",
      " 22  romantic    649 non-null    object\n",
      " 23  famrel      649 non-null    int64 \n",
      " 24  freetime    649 non-null    int64 \n",
      " 25  goout       649 non-null    int64 \n",
      " 26  Dalc        649 non-null    int64 \n",
      " 27  Walc        649 non-null    int64 \n",
      " 28  health      649 non-null    int64 \n",
      " 29  absences    649 non-null    int64 \n",
      " 30  G1          649 non-null    int64 \n",
      " 31  G2          649 non-null    int64 \n",
      " 32  G3          649 non-null    int64 \n",
      "dtypes: int64(16), object(17)\n",
      "memory usage: 167.4+ KB\n"
     ]
    }
   ],
   "source": [
    "por_df.info()"
   ]
  },
  {
   "cell_type": "code",
   "execution_count": 106,
   "id": "2022ba5b",
   "metadata": {},
   "outputs": [
    {
     "data": {
      "text/plain": [
       "Index(['school', 'sex', 'age', 'address', 'famsize', 'Pstatus', 'Medu', 'Fedu',\n",
       "       'Mjob', 'Fjob', 'reason', 'guardian', 'traveltime', 'studytime',\n",
       "       'failures', 'schoolsup', 'famsup', 'paid', 'activities', 'nursery',\n",
       "       'higher', 'internet', 'romantic', 'famrel', 'freetime', 'goout', 'Dalc',\n",
       "       'Walc', 'health', 'absences', 'G1', 'G2', 'G3'],\n",
       "      dtype='object')"
      ]
     },
     "execution_count": 106,
     "metadata": {},
     "output_type": "execute_result"
    }
   ],
   "source": [
    "mat_df.columns"
   ]
  },
  {
   "cell_type": "code",
   "execution_count": 107,
   "id": "a040e29c",
   "metadata": {},
   "outputs": [
    {
     "data": {
      "text/plain": [
       "Index(['school', 'sex', 'age', 'address', 'famsize', 'Pstatus', 'Medu', 'Fedu',\n",
       "       'Mjob', 'Fjob', 'reason', 'guardian', 'traveltime', 'studytime',\n",
       "       'failures', 'schoolsup', 'famsup', 'paid', 'activities', 'nursery',\n",
       "       'higher', 'internet', 'romantic', 'famrel', 'freetime', 'goout', 'Dalc',\n",
       "       'Walc', 'health', 'absences', 'G1', 'G2', 'G3'],\n",
       "      dtype='object')"
      ]
     },
     "execution_count": 107,
     "metadata": {},
     "output_type": "execute_result"
    }
   ],
   "source": [
    "por_df.columns"
   ]
  },
  {
   "cell_type": "code",
   "execution_count": 108,
   "id": "4cee9805",
   "metadata": {},
   "outputs": [
    {
     "data": {
      "text/html": [
       "<div>\n",
       "<style scoped>\n",
       "    .dataframe tbody tr th:only-of-type {\n",
       "        vertical-align: middle;\n",
       "    }\n",
       "\n",
       "    .dataframe tbody tr th {\n",
       "        vertical-align: top;\n",
       "    }\n",
       "\n",
       "    .dataframe thead th {\n",
       "        text-align: right;\n",
       "    }\n",
       "</style>\n",
       "<table border=\"1\" class=\"dataframe\">\n",
       "  <thead>\n",
       "    <tr style=\"text-align: right;\">\n",
       "      <th></th>\n",
       "      <th>school</th>\n",
       "      <th>sex</th>\n",
       "      <th>age</th>\n",
       "      <th>address</th>\n",
       "      <th>famsize</th>\n",
       "      <th>Pstatus</th>\n",
       "      <th>Medu</th>\n",
       "      <th>Fedu</th>\n",
       "      <th>Mjob</th>\n",
       "      <th>Fjob</th>\n",
       "      <th>...</th>\n",
       "      <th>famrel</th>\n",
       "      <th>freetime</th>\n",
       "      <th>goout</th>\n",
       "      <th>Dalc</th>\n",
       "      <th>Walc</th>\n",
       "      <th>health</th>\n",
       "      <th>absences</th>\n",
       "      <th>G1</th>\n",
       "      <th>G2</th>\n",
       "      <th>G3</th>\n",
       "    </tr>\n",
       "  </thead>\n",
       "  <tbody>\n",
       "    <tr>\n",
       "      <th>0</th>\n",
       "      <td>GP</td>\n",
       "      <td>F</td>\n",
       "      <td>18</td>\n",
       "      <td>U</td>\n",
       "      <td>GT3</td>\n",
       "      <td>A</td>\n",
       "      <td>4</td>\n",
       "      <td>4</td>\n",
       "      <td>at_home</td>\n",
       "      <td>teacher</td>\n",
       "      <td>...</td>\n",
       "      <td>4</td>\n",
       "      <td>3</td>\n",
       "      <td>4</td>\n",
       "      <td>1</td>\n",
       "      <td>1</td>\n",
       "      <td>3</td>\n",
       "      <td>6</td>\n",
       "      <td>5</td>\n",
       "      <td>6</td>\n",
       "      <td>6</td>\n",
       "    </tr>\n",
       "    <tr>\n",
       "      <th>1</th>\n",
       "      <td>GP</td>\n",
       "      <td>F</td>\n",
       "      <td>17</td>\n",
       "      <td>U</td>\n",
       "      <td>GT3</td>\n",
       "      <td>T</td>\n",
       "      <td>1</td>\n",
       "      <td>1</td>\n",
       "      <td>at_home</td>\n",
       "      <td>other</td>\n",
       "      <td>...</td>\n",
       "      <td>5</td>\n",
       "      <td>3</td>\n",
       "      <td>3</td>\n",
       "      <td>1</td>\n",
       "      <td>1</td>\n",
       "      <td>3</td>\n",
       "      <td>4</td>\n",
       "      <td>5</td>\n",
       "      <td>5</td>\n",
       "      <td>6</td>\n",
       "    </tr>\n",
       "    <tr>\n",
       "      <th>2</th>\n",
       "      <td>GP</td>\n",
       "      <td>F</td>\n",
       "      <td>15</td>\n",
       "      <td>U</td>\n",
       "      <td>LE3</td>\n",
       "      <td>T</td>\n",
       "      <td>1</td>\n",
       "      <td>1</td>\n",
       "      <td>at_home</td>\n",
       "      <td>other</td>\n",
       "      <td>...</td>\n",
       "      <td>4</td>\n",
       "      <td>3</td>\n",
       "      <td>2</td>\n",
       "      <td>2</td>\n",
       "      <td>3</td>\n",
       "      <td>3</td>\n",
       "      <td>10</td>\n",
       "      <td>7</td>\n",
       "      <td>8</td>\n",
       "      <td>10</td>\n",
       "    </tr>\n",
       "    <tr>\n",
       "      <th>3</th>\n",
       "      <td>GP</td>\n",
       "      <td>F</td>\n",
       "      <td>15</td>\n",
       "      <td>U</td>\n",
       "      <td>GT3</td>\n",
       "      <td>T</td>\n",
       "      <td>4</td>\n",
       "      <td>2</td>\n",
       "      <td>health</td>\n",
       "      <td>services</td>\n",
       "      <td>...</td>\n",
       "      <td>3</td>\n",
       "      <td>2</td>\n",
       "      <td>2</td>\n",
       "      <td>1</td>\n",
       "      <td>1</td>\n",
       "      <td>5</td>\n",
       "      <td>2</td>\n",
       "      <td>15</td>\n",
       "      <td>14</td>\n",
       "      <td>15</td>\n",
       "    </tr>\n",
       "    <tr>\n",
       "      <th>4</th>\n",
       "      <td>GP</td>\n",
       "      <td>F</td>\n",
       "      <td>16</td>\n",
       "      <td>U</td>\n",
       "      <td>GT3</td>\n",
       "      <td>T</td>\n",
       "      <td>3</td>\n",
       "      <td>3</td>\n",
       "      <td>other</td>\n",
       "      <td>other</td>\n",
       "      <td>...</td>\n",
       "      <td>4</td>\n",
       "      <td>3</td>\n",
       "      <td>2</td>\n",
       "      <td>1</td>\n",
       "      <td>2</td>\n",
       "      <td>5</td>\n",
       "      <td>4</td>\n",
       "      <td>6</td>\n",
       "      <td>10</td>\n",
       "      <td>10</td>\n",
       "    </tr>\n",
       "  </tbody>\n",
       "</table>\n",
       "<p>5 rows × 33 columns</p>\n",
       "</div>"
      ],
      "text/plain": [
       "  school sex  age address famsize Pstatus  Medu  Fedu     Mjob      Fjob  ...  \\\n",
       "0     GP   F   18       U     GT3       A     4     4  at_home   teacher  ...   \n",
       "1     GP   F   17       U     GT3       T     1     1  at_home     other  ...   \n",
       "2     GP   F   15       U     LE3       T     1     1  at_home     other  ...   \n",
       "3     GP   F   15       U     GT3       T     4     2   health  services  ...   \n",
       "4     GP   F   16       U     GT3       T     3     3    other     other  ...   \n",
       "\n",
       "  famrel freetime  goout  Dalc  Walc health absences  G1  G2  G3  \n",
       "0      4        3      4     1     1      3        6   5   6   6  \n",
       "1      5        3      3     1     1      3        4   5   5   6  \n",
       "2      4        3      2     2     3      3       10   7   8  10  \n",
       "3      3        2      2     1     1      5        2  15  14  15  \n",
       "4      4        3      2     1     2      5        4   6  10  10  \n",
       "\n",
       "[5 rows x 33 columns]"
      ]
     },
     "execution_count": 108,
     "metadata": {},
     "output_type": "execute_result"
    }
   ],
   "source": [
    "mat_df.head()"
   ]
  },
  {
   "cell_type": "code",
   "execution_count": 109,
   "id": "8c49e870",
   "metadata": {},
   "outputs": [
    {
     "data": {
      "text/html": [
       "<div>\n",
       "<style scoped>\n",
       "    .dataframe tbody tr th:only-of-type {\n",
       "        vertical-align: middle;\n",
       "    }\n",
       "\n",
       "    .dataframe tbody tr th {\n",
       "        vertical-align: top;\n",
       "    }\n",
       "\n",
       "    .dataframe thead th {\n",
       "        text-align: right;\n",
       "    }\n",
       "</style>\n",
       "<table border=\"1\" class=\"dataframe\">\n",
       "  <thead>\n",
       "    <tr style=\"text-align: right;\">\n",
       "      <th></th>\n",
       "      <th>school</th>\n",
       "      <th>sex</th>\n",
       "      <th>age</th>\n",
       "      <th>address</th>\n",
       "      <th>famsize</th>\n",
       "      <th>Pstatus</th>\n",
       "      <th>Medu</th>\n",
       "      <th>Fedu</th>\n",
       "      <th>Mjob</th>\n",
       "      <th>Fjob</th>\n",
       "      <th>...</th>\n",
       "      <th>famrel</th>\n",
       "      <th>freetime</th>\n",
       "      <th>goout</th>\n",
       "      <th>Dalc</th>\n",
       "      <th>Walc</th>\n",
       "      <th>health</th>\n",
       "      <th>absences</th>\n",
       "      <th>G1</th>\n",
       "      <th>G2</th>\n",
       "      <th>G3</th>\n",
       "    </tr>\n",
       "  </thead>\n",
       "  <tbody>\n",
       "    <tr>\n",
       "      <th>0</th>\n",
       "      <td>GP</td>\n",
       "      <td>F</td>\n",
       "      <td>18</td>\n",
       "      <td>U</td>\n",
       "      <td>GT3</td>\n",
       "      <td>A</td>\n",
       "      <td>4</td>\n",
       "      <td>4</td>\n",
       "      <td>at_home</td>\n",
       "      <td>teacher</td>\n",
       "      <td>...</td>\n",
       "      <td>4</td>\n",
       "      <td>3</td>\n",
       "      <td>4</td>\n",
       "      <td>1</td>\n",
       "      <td>1</td>\n",
       "      <td>3</td>\n",
       "      <td>4</td>\n",
       "      <td>0</td>\n",
       "      <td>11</td>\n",
       "      <td>11</td>\n",
       "    </tr>\n",
       "    <tr>\n",
       "      <th>1</th>\n",
       "      <td>GP</td>\n",
       "      <td>F</td>\n",
       "      <td>17</td>\n",
       "      <td>U</td>\n",
       "      <td>GT3</td>\n",
       "      <td>T</td>\n",
       "      <td>1</td>\n",
       "      <td>1</td>\n",
       "      <td>at_home</td>\n",
       "      <td>other</td>\n",
       "      <td>...</td>\n",
       "      <td>5</td>\n",
       "      <td>3</td>\n",
       "      <td>3</td>\n",
       "      <td>1</td>\n",
       "      <td>1</td>\n",
       "      <td>3</td>\n",
       "      <td>2</td>\n",
       "      <td>9</td>\n",
       "      <td>11</td>\n",
       "      <td>11</td>\n",
       "    </tr>\n",
       "    <tr>\n",
       "      <th>2</th>\n",
       "      <td>GP</td>\n",
       "      <td>F</td>\n",
       "      <td>15</td>\n",
       "      <td>U</td>\n",
       "      <td>LE3</td>\n",
       "      <td>T</td>\n",
       "      <td>1</td>\n",
       "      <td>1</td>\n",
       "      <td>at_home</td>\n",
       "      <td>other</td>\n",
       "      <td>...</td>\n",
       "      <td>4</td>\n",
       "      <td>3</td>\n",
       "      <td>2</td>\n",
       "      <td>2</td>\n",
       "      <td>3</td>\n",
       "      <td>3</td>\n",
       "      <td>6</td>\n",
       "      <td>12</td>\n",
       "      <td>13</td>\n",
       "      <td>12</td>\n",
       "    </tr>\n",
       "    <tr>\n",
       "      <th>3</th>\n",
       "      <td>GP</td>\n",
       "      <td>F</td>\n",
       "      <td>15</td>\n",
       "      <td>U</td>\n",
       "      <td>GT3</td>\n",
       "      <td>T</td>\n",
       "      <td>4</td>\n",
       "      <td>2</td>\n",
       "      <td>health</td>\n",
       "      <td>services</td>\n",
       "      <td>...</td>\n",
       "      <td>3</td>\n",
       "      <td>2</td>\n",
       "      <td>2</td>\n",
       "      <td>1</td>\n",
       "      <td>1</td>\n",
       "      <td>5</td>\n",
       "      <td>0</td>\n",
       "      <td>14</td>\n",
       "      <td>14</td>\n",
       "      <td>14</td>\n",
       "    </tr>\n",
       "    <tr>\n",
       "      <th>4</th>\n",
       "      <td>GP</td>\n",
       "      <td>F</td>\n",
       "      <td>16</td>\n",
       "      <td>U</td>\n",
       "      <td>GT3</td>\n",
       "      <td>T</td>\n",
       "      <td>3</td>\n",
       "      <td>3</td>\n",
       "      <td>other</td>\n",
       "      <td>other</td>\n",
       "      <td>...</td>\n",
       "      <td>4</td>\n",
       "      <td>3</td>\n",
       "      <td>2</td>\n",
       "      <td>1</td>\n",
       "      <td>2</td>\n",
       "      <td>5</td>\n",
       "      <td>0</td>\n",
       "      <td>11</td>\n",
       "      <td>13</td>\n",
       "      <td>13</td>\n",
       "    </tr>\n",
       "  </tbody>\n",
       "</table>\n",
       "<p>5 rows × 33 columns</p>\n",
       "</div>"
      ],
      "text/plain": [
       "  school sex  age address famsize Pstatus  Medu  Fedu     Mjob      Fjob  ...  \\\n",
       "0     GP   F   18       U     GT3       A     4     4  at_home   teacher  ...   \n",
       "1     GP   F   17       U     GT3       T     1     1  at_home     other  ...   \n",
       "2     GP   F   15       U     LE3       T     1     1  at_home     other  ...   \n",
       "3     GP   F   15       U     GT3       T     4     2   health  services  ...   \n",
       "4     GP   F   16       U     GT3       T     3     3    other     other  ...   \n",
       "\n",
       "  famrel freetime  goout  Dalc  Walc health absences  G1  G2  G3  \n",
       "0      4        3      4     1     1      3        4   0  11  11  \n",
       "1      5        3      3     1     1      3        2   9  11  11  \n",
       "2      4        3      2     2     3      3        6  12  13  12  \n",
       "3      3        2      2     1     1      5        0  14  14  14  \n",
       "4      4        3      2     1     2      5        0  11  13  13  \n",
       "\n",
       "[5 rows x 33 columns]"
      ]
     },
     "execution_count": 109,
     "metadata": {},
     "output_type": "execute_result"
    }
   ],
   "source": [
    "por_df.head()"
   ]
  },
  {
   "cell_type": "markdown",
   "id": "15f3984f",
   "metadata": {},
   "source": [
    "### Merge"
   ]
  },
  {
   "cell_type": "code",
   "execution_count": 110,
   "id": "82d8c089",
   "metadata": {},
   "outputs": [],
   "source": [
    "# student_df = mat_df.merge(por_df, on=[\"school\",\"sex\",\"age\",\"address\",\"famsize\",\"Pstatus\",\"Medu\",\"Fedu\",\"Mjob\",\"Fjob\",\"reason\",\"nursery\",\"internet\"])"
   ]
  },
  {
   "cell_type": "code",
   "execution_count": 111,
   "id": "6ca7f76b",
   "metadata": {},
   "outputs": [],
   "source": [
    "# student_df.info()"
   ]
  },
  {
   "cell_type": "markdown",
   "id": "d9ee4d79",
   "metadata": {},
   "source": [
    "# 1) Find out the features that are important."
   ]
  },
  {
   "cell_type": "markdown",
   "id": "8825edb8",
   "metadata": {},
   "source": [
    "## Use extra trees classifier method"
   ]
  },
  {
   "cell_type": "code",
   "execution_count": 112,
   "id": "634505fd",
   "metadata": {},
   "outputs": [],
   "source": [
    "import numpy as np\n",
    "import matplotlib.pyplot as plt\n",
    "\n",
    "from sklearn import preprocessing\n",
    "from sklearn.compose import make_column_selector as col_selector\n",
    "from sklearn.ensemble import ExtraTreesClassifier"
   ]
  },
  {
   "cell_type": "markdown",
   "id": "ecee08a3",
   "metadata": {},
   "source": [
    "### split into features and target"
   ]
  },
  {
   "cell_type": "code",
   "execution_count": 113,
   "id": "ae6864b2",
   "metadata": {},
   "outputs": [],
   "source": [
    "mat_df_x = mat_df.drop('G3', axis=1).copy(deep=True)\n",
    "mat_y = mat_df['G3'].copy(deep=True)\n",
    "\n",
    "por_df_x = por_df.drop('G3', axis=1).copy(deep=True)\n",
    "por_y = por_df['G3'].copy(deep=True)"
   ]
  },
  {
   "cell_type": "markdown",
   "id": "744cb726",
   "metadata": {},
   "source": [
    "# 2) Convert categorical features to numeric."
   ]
  },
  {
   "cell_type": "markdown",
   "id": "bcbec751",
   "metadata": {},
   "source": [
    "### Convert Categorical Features to Numeric in order to use the ExtraTreesClassifier"
   ]
  },
  {
   "cell_type": "code",
   "execution_count": 114,
   "id": "447a8286",
   "metadata": {},
   "outputs": [
    {
     "name": "stdout",
     "output_type": "stream",
     "text": [
      "['school', 'sex', 'address', 'famsize', 'Pstatus', 'Mjob', 'Fjob', 'reason', 'guardian', 'schoolsup', 'famsup', 'paid', 'activities', 'nursery', 'higher', 'internet', 'romantic']\n",
      "['age', 'Medu', 'Fedu', 'traveltime', 'studytime', 'failures', 'famrel', 'freetime', 'goout', 'Dalc', 'Walc', 'health', 'absences', 'G1', 'G2']\n"
     ]
    }
   ],
   "source": [
    "categorical_cols_obj = col_selector(dtype_include=object)\n",
    "categorical_features_mat = categorical_cols_obj(mat_df_x)\n",
    "print(categorical_features_mat)\n",
    "\n",
    "int_cols_obj = col_selector(dtype_include=\"int64\")\n",
    "numeric_features_mat = int_cols_obj(mat_df_x)\n",
    "print(numeric_features_mat)\n",
    "\n",
    "df_cat = mat_df_x[categorical_features_mat]\n",
    "\n",
    "ob_encoded = preprocessing.OrdinalEncoder()\n",
    "cat_encoded = ob_encoded.fit_transform(df_cat)\n",
    "\n",
    "x_mat = np.hstack([cat_encoded, np.array(mat_df_x[numeric_features_mat])])\n",
    "\n",
    "yb = preprocessing.LabelEncoder()\n",
    "y_mat = yb.fit_transform(mat_y)"
   ]
  },
  {
   "cell_type": "code",
   "execution_count": 115,
   "id": "427b432e",
   "metadata": {},
   "outputs": [
    {
     "name": "stdout",
     "output_type": "stream",
     "text": [
      "['school', 'sex', 'address', 'famsize', 'Pstatus', 'Mjob', 'Fjob', 'reason', 'guardian', 'schoolsup', 'famsup', 'paid', 'activities', 'nursery', 'higher', 'internet', 'romantic']\n",
      "['age', 'Medu', 'Fedu', 'traveltime', 'studytime', 'failures', 'famrel', 'freetime', 'goout', 'Dalc', 'Walc', 'health', 'absences', 'G1', 'G2']\n"
     ]
    }
   ],
   "source": [
    "categorical_cols_obj = col_selector(dtype_include=object)\n",
    "categorical_features_por = categorical_cols_obj(por_df_x)\n",
    "print(categorical_features_por)\n",
    "\n",
    "int_cols_obj = col_selector(dtype_include=\"int64\")\n",
    "numeric_features_por = int_cols_obj(por_df_x)\n",
    "print(numeric_features_por)\n",
    "\n",
    "df_cat = por_df_x[categorical_features_por]\n",
    "\n",
    "ob_encoded = preprocessing.OrdinalEncoder()\n",
    "cat_encoded = ob_encoded.fit_transform(df_cat)\n",
    "\n",
    "x_por = np.hstack([cat_encoded, np.array(por_df_x[numeric_features_por])])\n",
    "\n",
    "yb = preprocessing.LabelEncoder()\n",
    "y_por = yb.fit_transform(por_y)"
   ]
  },
  {
   "cell_type": "code",
   "execution_count": 116,
   "id": "884d7097",
   "metadata": {},
   "outputs": [
    {
     "data": {
      "text/plain": [
       "(395, 32)"
      ]
     },
     "execution_count": 116,
     "metadata": {},
     "output_type": "execute_result"
    }
   ],
   "source": [
    "x_mat.shape"
   ]
  },
  {
   "cell_type": "code",
   "execution_count": 117,
   "id": "33c67c4f",
   "metadata": {},
   "outputs": [
    {
     "data": {
      "text/plain": [
       "numpy.ndarray"
      ]
     },
     "execution_count": 117,
     "metadata": {},
     "output_type": "execute_result"
    }
   ],
   "source": [
    "type(x_mat)"
   ]
  },
  {
   "cell_type": "code",
   "execution_count": 118,
   "id": "9b335d68",
   "metadata": {},
   "outputs": [
    {
     "data": {
      "text/html": [
       "<div>\n",
       "<style scoped>\n",
       "    .dataframe tbody tr th:only-of-type {\n",
       "        vertical-align: middle;\n",
       "    }\n",
       "\n",
       "    .dataframe tbody tr th {\n",
       "        vertical-align: top;\n",
       "    }\n",
       "\n",
       "    .dataframe thead th {\n",
       "        text-align: right;\n",
       "    }\n",
       "</style>\n",
       "<table border=\"1\" class=\"dataframe\">\n",
       "  <thead>\n",
       "    <tr style=\"text-align: right;\">\n",
       "      <th></th>\n",
       "      <th>0</th>\n",
       "      <th>1</th>\n",
       "      <th>2</th>\n",
       "      <th>3</th>\n",
       "      <th>4</th>\n",
       "      <th>5</th>\n",
       "      <th>6</th>\n",
       "      <th>7</th>\n",
       "      <th>8</th>\n",
       "      <th>9</th>\n",
       "      <th>...</th>\n",
       "      <th>22</th>\n",
       "      <th>23</th>\n",
       "      <th>24</th>\n",
       "      <th>25</th>\n",
       "      <th>26</th>\n",
       "      <th>27</th>\n",
       "      <th>28</th>\n",
       "      <th>29</th>\n",
       "      <th>30</th>\n",
       "      <th>31</th>\n",
       "    </tr>\n",
       "  </thead>\n",
       "  <tbody>\n",
       "    <tr>\n",
       "      <th>0</th>\n",
       "      <td>0.0</td>\n",
       "      <td>0.0</td>\n",
       "      <td>1.0</td>\n",
       "      <td>0.0</td>\n",
       "      <td>0.0</td>\n",
       "      <td>0.0</td>\n",
       "      <td>4.0</td>\n",
       "      <td>0.0</td>\n",
       "      <td>1.0</td>\n",
       "      <td>1.0</td>\n",
       "      <td>...</td>\n",
       "      <td>0.0</td>\n",
       "      <td>4.0</td>\n",
       "      <td>3.0</td>\n",
       "      <td>4.0</td>\n",
       "      <td>1.0</td>\n",
       "      <td>1.0</td>\n",
       "      <td>3.0</td>\n",
       "      <td>6.0</td>\n",
       "      <td>5.0</td>\n",
       "      <td>6.0</td>\n",
       "    </tr>\n",
       "    <tr>\n",
       "      <th>1</th>\n",
       "      <td>0.0</td>\n",
       "      <td>0.0</td>\n",
       "      <td>1.0</td>\n",
       "      <td>0.0</td>\n",
       "      <td>1.0</td>\n",
       "      <td>0.0</td>\n",
       "      <td>2.0</td>\n",
       "      <td>0.0</td>\n",
       "      <td>0.0</td>\n",
       "      <td>0.0</td>\n",
       "      <td>...</td>\n",
       "      <td>0.0</td>\n",
       "      <td>5.0</td>\n",
       "      <td>3.0</td>\n",
       "      <td>3.0</td>\n",
       "      <td>1.0</td>\n",
       "      <td>1.0</td>\n",
       "      <td>3.0</td>\n",
       "      <td>4.0</td>\n",
       "      <td>5.0</td>\n",
       "      <td>5.0</td>\n",
       "    </tr>\n",
       "    <tr>\n",
       "      <th>2</th>\n",
       "      <td>0.0</td>\n",
       "      <td>0.0</td>\n",
       "      <td>1.0</td>\n",
       "      <td>1.0</td>\n",
       "      <td>1.0</td>\n",
       "      <td>0.0</td>\n",
       "      <td>2.0</td>\n",
       "      <td>2.0</td>\n",
       "      <td>1.0</td>\n",
       "      <td>1.0</td>\n",
       "      <td>...</td>\n",
       "      <td>3.0</td>\n",
       "      <td>4.0</td>\n",
       "      <td>3.0</td>\n",
       "      <td>2.0</td>\n",
       "      <td>2.0</td>\n",
       "      <td>3.0</td>\n",
       "      <td>3.0</td>\n",
       "      <td>10.0</td>\n",
       "      <td>7.0</td>\n",
       "      <td>8.0</td>\n",
       "    </tr>\n",
       "    <tr>\n",
       "      <th>3</th>\n",
       "      <td>0.0</td>\n",
       "      <td>0.0</td>\n",
       "      <td>1.0</td>\n",
       "      <td>0.0</td>\n",
       "      <td>1.0</td>\n",
       "      <td>1.0</td>\n",
       "      <td>3.0</td>\n",
       "      <td>1.0</td>\n",
       "      <td>1.0</td>\n",
       "      <td>0.0</td>\n",
       "      <td>...</td>\n",
       "      <td>0.0</td>\n",
       "      <td>3.0</td>\n",
       "      <td>2.0</td>\n",
       "      <td>2.0</td>\n",
       "      <td>1.0</td>\n",
       "      <td>1.0</td>\n",
       "      <td>5.0</td>\n",
       "      <td>2.0</td>\n",
       "      <td>15.0</td>\n",
       "      <td>14.0</td>\n",
       "    </tr>\n",
       "    <tr>\n",
       "      <th>4</th>\n",
       "      <td>0.0</td>\n",
       "      <td>0.0</td>\n",
       "      <td>1.0</td>\n",
       "      <td>0.0</td>\n",
       "      <td>1.0</td>\n",
       "      <td>2.0</td>\n",
       "      <td>2.0</td>\n",
       "      <td>1.0</td>\n",
       "      <td>0.0</td>\n",
       "      <td>0.0</td>\n",
       "      <td>...</td>\n",
       "      <td>0.0</td>\n",
       "      <td>4.0</td>\n",
       "      <td>3.0</td>\n",
       "      <td>2.0</td>\n",
       "      <td>1.0</td>\n",
       "      <td>2.0</td>\n",
       "      <td>5.0</td>\n",
       "      <td>4.0</td>\n",
       "      <td>6.0</td>\n",
       "      <td>10.0</td>\n",
       "    </tr>\n",
       "    <tr>\n",
       "      <th>...</th>\n",
       "      <td>...</td>\n",
       "      <td>...</td>\n",
       "      <td>...</td>\n",
       "      <td>...</td>\n",
       "      <td>...</td>\n",
       "      <td>...</td>\n",
       "      <td>...</td>\n",
       "      <td>...</td>\n",
       "      <td>...</td>\n",
       "      <td>...</td>\n",
       "      <td>...</td>\n",
       "      <td>...</td>\n",
       "      <td>...</td>\n",
       "      <td>...</td>\n",
       "      <td>...</td>\n",
       "      <td>...</td>\n",
       "      <td>...</td>\n",
       "      <td>...</td>\n",
       "      <td>...</td>\n",
       "      <td>...</td>\n",
       "      <td>...</td>\n",
       "    </tr>\n",
       "    <tr>\n",
       "      <th>390</th>\n",
       "      <td>1.0</td>\n",
       "      <td>1.0</td>\n",
       "      <td>1.0</td>\n",
       "      <td>1.0</td>\n",
       "      <td>0.0</td>\n",
       "      <td>3.0</td>\n",
       "      <td>3.0</td>\n",
       "      <td>0.0</td>\n",
       "      <td>2.0</td>\n",
       "      <td>0.0</td>\n",
       "      <td>...</td>\n",
       "      <td>2.0</td>\n",
       "      <td>5.0</td>\n",
       "      <td>5.0</td>\n",
       "      <td>4.0</td>\n",
       "      <td>4.0</td>\n",
       "      <td>5.0</td>\n",
       "      <td>4.0</td>\n",
       "      <td>11.0</td>\n",
       "      <td>9.0</td>\n",
       "      <td>9.0</td>\n",
       "    </tr>\n",
       "    <tr>\n",
       "      <th>391</th>\n",
       "      <td>1.0</td>\n",
       "      <td>1.0</td>\n",
       "      <td>1.0</td>\n",
       "      <td>1.0</td>\n",
       "      <td>1.0</td>\n",
       "      <td>3.0</td>\n",
       "      <td>3.0</td>\n",
       "      <td>0.0</td>\n",
       "      <td>1.0</td>\n",
       "      <td>0.0</td>\n",
       "      <td>...</td>\n",
       "      <td>0.0</td>\n",
       "      <td>2.0</td>\n",
       "      <td>4.0</td>\n",
       "      <td>5.0</td>\n",
       "      <td>3.0</td>\n",
       "      <td>4.0</td>\n",
       "      <td>2.0</td>\n",
       "      <td>3.0</td>\n",
       "      <td>14.0</td>\n",
       "      <td>16.0</td>\n",
       "    </tr>\n",
       "    <tr>\n",
       "      <th>392</th>\n",
       "      <td>1.0</td>\n",
       "      <td>1.0</td>\n",
       "      <td>0.0</td>\n",
       "      <td>0.0</td>\n",
       "      <td>1.0</td>\n",
       "      <td>2.0</td>\n",
       "      <td>2.0</td>\n",
       "      <td>0.0</td>\n",
       "      <td>2.0</td>\n",
       "      <td>0.0</td>\n",
       "      <td>...</td>\n",
       "      <td>3.0</td>\n",
       "      <td>5.0</td>\n",
       "      <td>5.0</td>\n",
       "      <td>3.0</td>\n",
       "      <td>3.0</td>\n",
       "      <td>3.0</td>\n",
       "      <td>3.0</td>\n",
       "      <td>3.0</td>\n",
       "      <td>10.0</td>\n",
       "      <td>8.0</td>\n",
       "    </tr>\n",
       "    <tr>\n",
       "      <th>393</th>\n",
       "      <td>1.0</td>\n",
       "      <td>1.0</td>\n",
       "      <td>0.0</td>\n",
       "      <td>1.0</td>\n",
       "      <td>1.0</td>\n",
       "      <td>3.0</td>\n",
       "      <td>2.0</td>\n",
       "      <td>0.0</td>\n",
       "      <td>1.0</td>\n",
       "      <td>0.0</td>\n",
       "      <td>...</td>\n",
       "      <td>0.0</td>\n",
       "      <td>4.0</td>\n",
       "      <td>4.0</td>\n",
       "      <td>1.0</td>\n",
       "      <td>3.0</td>\n",
       "      <td>4.0</td>\n",
       "      <td>5.0</td>\n",
       "      <td>0.0</td>\n",
       "      <td>11.0</td>\n",
       "      <td>12.0</td>\n",
       "    </tr>\n",
       "    <tr>\n",
       "      <th>394</th>\n",
       "      <td>1.0</td>\n",
       "      <td>1.0</td>\n",
       "      <td>1.0</td>\n",
       "      <td>1.0</td>\n",
       "      <td>1.0</td>\n",
       "      <td>2.0</td>\n",
       "      <td>0.0</td>\n",
       "      <td>0.0</td>\n",
       "      <td>0.0</td>\n",
       "      <td>0.0</td>\n",
       "      <td>...</td>\n",
       "      <td>0.0</td>\n",
       "      <td>3.0</td>\n",
       "      <td>2.0</td>\n",
       "      <td>3.0</td>\n",
       "      <td>3.0</td>\n",
       "      <td>3.0</td>\n",
       "      <td>5.0</td>\n",
       "      <td>5.0</td>\n",
       "      <td>8.0</td>\n",
       "      <td>9.0</td>\n",
       "    </tr>\n",
       "  </tbody>\n",
       "</table>\n",
       "<p>395 rows × 32 columns</p>\n",
       "</div>"
      ],
      "text/plain": [
       "      0    1    2    3    4    5    6    7    8    9   ...   22   23   24  \\\n",
       "0    0.0  0.0  1.0  0.0  0.0  0.0  4.0  0.0  1.0  1.0  ...  0.0  4.0  3.0   \n",
       "1    0.0  0.0  1.0  0.0  1.0  0.0  2.0  0.0  0.0  0.0  ...  0.0  5.0  3.0   \n",
       "2    0.0  0.0  1.0  1.0  1.0  0.0  2.0  2.0  1.0  1.0  ...  3.0  4.0  3.0   \n",
       "3    0.0  0.0  1.0  0.0  1.0  1.0  3.0  1.0  1.0  0.0  ...  0.0  3.0  2.0   \n",
       "4    0.0  0.0  1.0  0.0  1.0  2.0  2.0  1.0  0.0  0.0  ...  0.0  4.0  3.0   \n",
       "..   ...  ...  ...  ...  ...  ...  ...  ...  ...  ...  ...  ...  ...  ...   \n",
       "390  1.0  1.0  1.0  1.0  0.0  3.0  3.0  0.0  2.0  0.0  ...  2.0  5.0  5.0   \n",
       "391  1.0  1.0  1.0  1.0  1.0  3.0  3.0  0.0  1.0  0.0  ...  0.0  2.0  4.0   \n",
       "392  1.0  1.0  0.0  0.0  1.0  2.0  2.0  0.0  2.0  0.0  ...  3.0  5.0  5.0   \n",
       "393  1.0  1.0  0.0  1.0  1.0  3.0  2.0  0.0  1.0  0.0  ...  0.0  4.0  4.0   \n",
       "394  1.0  1.0  1.0  1.0  1.0  2.0  0.0  0.0  0.0  0.0  ...  0.0  3.0  2.0   \n",
       "\n",
       "      25   26   27   28    29    30    31  \n",
       "0    4.0  1.0  1.0  3.0   6.0   5.0   6.0  \n",
       "1    3.0  1.0  1.0  3.0   4.0   5.0   5.0  \n",
       "2    2.0  2.0  3.0  3.0  10.0   7.0   8.0  \n",
       "3    2.0  1.0  1.0  5.0   2.0  15.0  14.0  \n",
       "4    2.0  1.0  2.0  5.0   4.0   6.0  10.0  \n",
       "..   ...  ...  ...  ...   ...   ...   ...  \n",
       "390  4.0  4.0  5.0  4.0  11.0   9.0   9.0  \n",
       "391  5.0  3.0  4.0  2.0   3.0  14.0  16.0  \n",
       "392  3.0  3.0  3.0  3.0   3.0  10.0   8.0  \n",
       "393  1.0  3.0  4.0  5.0   0.0  11.0  12.0  \n",
       "394  3.0  3.0  3.0  5.0   5.0   8.0   9.0  \n",
       "\n",
       "[395 rows x 32 columns]"
      ]
     },
     "execution_count": 118,
     "metadata": {},
     "output_type": "execute_result"
    }
   ],
   "source": [
    "pd.DataFrame(x_mat)"
   ]
  },
  {
   "cell_type": "code",
   "execution_count": 119,
   "id": "884616b3",
   "metadata": {},
   "outputs": [
    {
     "data": {
      "text/plain": [
       "(395,)"
      ]
     },
     "execution_count": 119,
     "metadata": {},
     "output_type": "execute_result"
    }
   ],
   "source": [
    "y_mat.shape"
   ]
  },
  {
   "cell_type": "code",
   "execution_count": 120,
   "id": "f41bfcf3",
   "metadata": {},
   "outputs": [
    {
     "data": {
      "text/plain": [
       "numpy.ndarray"
      ]
     },
     "execution_count": 120,
     "metadata": {},
     "output_type": "execute_result"
    }
   ],
   "source": [
    "type(y_mat)"
   ]
  },
  {
   "cell_type": "code",
   "execution_count": 121,
   "id": "7a580ea3",
   "metadata": {},
   "outputs": [
    {
     "data": {
      "text/plain": [
       "(649, 32)"
      ]
     },
     "execution_count": 121,
     "metadata": {},
     "output_type": "execute_result"
    }
   ],
   "source": [
    "x_por.shape"
   ]
  },
  {
   "cell_type": "code",
   "execution_count": 122,
   "id": "8b67a98e",
   "metadata": {},
   "outputs": [
    {
     "data": {
      "text/plain": [
       "(649,)"
      ]
     },
     "execution_count": 122,
     "metadata": {},
     "output_type": "execute_result"
    }
   ],
   "source": [
    "y_por.shape"
   ]
  },
  {
   "cell_type": "markdown",
   "id": "f0f86f42",
   "metadata": {},
   "source": [
    "### feature importance"
   ]
  },
  {
   "cell_type": "code",
   "execution_count": 123,
   "id": "3883810c",
   "metadata": {
    "scrolled": false
   },
   "outputs": [
    {
     "name": "stdout",
     "output_type": "stream",
     "text": [
      "['school', 'sex', 'address', 'famsize', 'Pstatus', 'Mjob', 'Fjob', 'reason', 'guardian', 'schoolsup', 'famsup', 'paid', 'activities', 'nursery', 'higher', 'internet', 'romantic', 'age', 'Medu', 'Fedu', 'traveltime', 'studytime', 'failures', 'famrel', 'freetime', 'goout', 'Dalc', 'Walc', 'health', 'absences', 'G1', 'G2']\n"
     ]
    },
    {
     "data": {
      "image/png": "[encoded data removed]",
      "text/plain": [
       "<Figure size 640x480 with 1 Axes>"
      ]
     },
     "metadata": {},
     "output_type": "display_data"
    },
    {
     "name": "stdout",
     "output_type": "stream",
     "text": [
      "['school', 'sex', 'address', 'famsize', 'Pstatus', 'Mjob', 'Fjob', 'reason', 'guardian', 'schoolsup', 'famsup', 'paid', 'activities', 'nursery', 'higher', 'internet', 'romantic', 'age', 'Medu', 'Fedu', 'traveltime', 'studytime', 'failures', 'famrel', 'freetime', 'goout', 'Dalc', 'Walc', 'health', 'absences', 'G1', 'G2']\n"
     ]
    },
    {
     "data": {
      "image/png": "[encoded data removed]",
      "text/plain": [
       "<Figure size 640x480 with 1 Axes>"
      ]
     },
     "metadata": {},
     "output_type": "display_data"
    }
   ],
   "source": [
    "for X, y, cat_features, numeric_features in zip([x_mat, x_por], [y_mat, y_por], [categorical_features_mat, categorical_features_por], [numeric_features_mat, numeric_features_por]):\n",
    "    extra_tree_forest = ExtraTreesClassifier(n_estimators = 5, criterion ='entropy', max_features = 2)\n",
    "\n",
    "    # Training the model\n",
    "    extra_tree_forest.fit(X, y)\n",
    "\n",
    "    # Computing the importance of each feature\n",
    "    feature_importance = extra_tree_forest.feature_importances_\n",
    "\n",
    "    # Plotting a Bar Graph to compare the models\n",
    "    features = cat_features + numeric_features\n",
    "    print(features)\n",
    "    plt.bar(features, feature_importance) \n",
    "    plt.xlabel('Feature Labels')\n",
    "    plt.xticks(rotation=90)\n",
    "    plt.ylabel('Feature Importances')\n",
    "    plt.axhline(y=0.04, color='r')\n",
    "    plt.title('Comparison of different Feature Importances')\n",
    "    plt.show()"
   ]
  },
  {
   "cell_type": "markdown",
   "id": "d34f32f8",
   "metadata": {},
   "source": [
    "## Feature Selection\n",
    "\n",
    "The most important features by far are G1 and G2 for both math and portuguese datasets\n",
    "I will also consider these other features significant based on if they are around or greater than a threshold of 0.035 feature importance (I will look at both datasets and use the same set of features for both for now):\n",
    "- Mjob\n",
    "- reason\n",
    "- age\n",
    "- Medu\n",
    "- Fedu\n",
    "- freetime\n",
    "- Walc\n",
    "- health\n",
    "- absences\n",
    "- G1\n",
    "- G2\n",
    "\n",
    "### Note: We could also run the extra tree classifier again to pull the important features from this first filtered list"
   ]
  },
  {
   "cell_type": "markdown",
   "id": "d609634b",
   "metadata": {},
   "source": [
    "# 3) Use important features to build the following:"
   ]
  },
  {
   "cell_type": "markdown",
   "id": "e5275b55",
   "metadata": {},
   "source": [
    "# a) Apply SVM along with GridSearchCV to determine the best parameters \n",
    "# for kernel and C. Use the best parameters from the search and build an SVC model and compute confusion matrix, classification report and accuracy."
   ]
  },
  {
   "cell_type": "code",
   "execution_count": 124,
   "id": "89f3819f",
   "metadata": {},
   "outputs": [],
   "source": [
    "from sklearn.model_selection import train_test_split\n",
    "from sklearn.svm import SVC\n",
    "from sklearn import metrics\n",
    "from sklearn.metrics import classification_report, confusion_matrix"
   ]
  },
  {
   "cell_type": "markdown",
   "id": "95e99085",
   "metadata": {},
   "source": [
    "## separate best features and encode"
   ]
  },
  {
   "cell_type": "code",
   "execution_count": 125,
   "id": "20daeaaf",
   "metadata": {},
   "outputs": [],
   "source": [
    "mat_df_x_copy = mat_df_x.copy(deep=True)\n",
    "por_df_x_copy = por_df_x.copy(deep=True)\n",
    "\n",
    "selected_features = ['Mjob', 'Medu', 'Fedu', 'goout', 'freetime', 'Walc', 'G1', 'G2']\n",
    "\n",
    "mat_df_x_copy = mat_df_x_copy[selected_features]\n",
    "por_df_x_copy = por_df_x_copy[selected_features]"
   ]
  },
  {
   "cell_type": "code",
   "execution_count": 126,
   "id": "b01fc98e",
   "metadata": {},
   "outputs": [
    {
     "name": "stdout",
     "output_type": "stream",
     "text": [
      "['Mjob']\n",
      "['Medu', 'Fedu', 'goout', 'freetime', 'Walc', 'G1', 'G2']\n"
     ]
    }
   ],
   "source": [
    "categorical_cols_obj = col_selector(dtype_include=object)\n",
    "categorical_features_mat = categorical_cols_obj(mat_df_x_copy)\n",
    "print(categorical_features_mat)\n",
    "\n",
    "int_cols_obj = col_selector(dtype_include=\"int64\")\n",
    "numeric_features_mat = int_cols_obj(mat_df_x_copy)\n",
    "print(numeric_features_mat)\n",
    "\n",
    "df_cat = mat_df_x_copy[categorical_features_mat]\n",
    "\n",
    "ob_encoded = preprocessing.OrdinalEncoder()\n",
    "cat_encoded = ob_encoded.fit_transform(df_cat)\n",
    "\n",
    "x_mat = np.hstack([cat_encoded, np.array(mat_df_x_copy[numeric_features_mat])])\n",
    "\n",
    "yb = preprocessing.LabelEncoder()\n",
    "y_mat = yb.fit_transform(mat_y)"
   ]
  },
  {
   "cell_type": "code",
   "execution_count": 127,
   "id": "00decb0c",
   "metadata": {},
   "outputs": [
    {
     "name": "stdout",
     "output_type": "stream",
     "text": [
      "['Mjob']\n",
      "['Medu', 'Fedu', 'goout', 'freetime', 'Walc', 'G1', 'G2']\n"
     ]
    }
   ],
   "source": [
    "categorical_cols_obj = col_selector(dtype_include=object)\n",
    "categorical_features_por = categorical_cols_obj(por_df_x_copy)\n",
    "print(categorical_features_por)\n",
    "\n",
    "int_cols_obj = col_selector(dtype_include=\"int64\")\n",
    "numeric_features_por = int_cols_obj(por_df_x_copy)\n",
    "print(numeric_features_por)\n",
    "\n",
    "df_cat = por_df_x_copy[categorical_features_por]\n",
    "\n",
    "ob_encoded = preprocessing.OrdinalEncoder()\n",
    "cat_encoded = ob_encoded.fit_transform(df_cat)\n",
    "\n",
    "x_por = np.hstack([cat_encoded, np.array(por_df_x_copy[numeric_features_por])])\n",
    "\n",
    "yb = preprocessing.LabelEncoder()\n",
    "y_por = yb.fit_transform(por_y)"
   ]
  },
  {
   "cell_type": "markdown",
   "id": "ffb3ed11",
   "metadata": {},
   "source": [
    "### Train Test Split"
   ]
  },
  {
   "cell_type": "code",
   "execution_count": 128,
   "id": "fdb76a0b",
   "metadata": {},
   "outputs": [],
   "source": [
    "xmat_train, xmat_test, ymat_train, ymat_test = train_test_split(x_mat, y_mat, test_size = 0.20)"
   ]
  },
  {
   "cell_type": "code",
   "execution_count": 129,
   "id": "8f1d60d8",
   "metadata": {},
   "outputs": [],
   "source": [
    "xpor_train, xpor_test, ypor_train, ypor_test = train_test_split(x_por, y_por, test_size = 0.20)"
   ]
  },
  {
   "cell_type": "markdown",
   "id": "8fde1442",
   "metadata": {},
   "source": [
    "### Instantiate SVM and train"
   ]
  },
  {
   "cell_type": "markdown",
   "id": "9ca549d3",
   "metadata": {},
   "source": [
    "#### Math"
   ]
  },
  {
   "cell_type": "code",
   "execution_count": 130,
   "id": "90ed0566",
   "metadata": {},
   "outputs": [
    {
     "name": "stdout",
     "output_type": "stream",
     "text": [
      "Confusion Matrix\n",
      "[[7 0 0 0 2 1 0 1 0 0 0 0 0 0 0 0]\n",
      " [2 0 0 0 0 0 0 0 0 0 0 0 0 0 0 0]\n",
      " [4 0 0 0 0 1 0 0 0 0 0 0 0 0 0 0]\n",
      " [1 0 0 0 0 1 0 0 0 0 0 0 0 0 0 0]\n",
      " [5 0 0 0 4 0 3 0 0 0 0 0 0 0 0 0]\n",
      " [0 0 0 0 0 2 1 0 0 0 0 0 0 0 0 0]\n",
      " [2 0 0 0 1 0 5 3 0 0 0 0 0 0 0 0]\n",
      " [0 0 0 0 0 0 2 2 0 0 0 0 0 0 0 0]\n",
      " [0 0 0 0 0 0 2 1 1 0 0 0 0 0 0 0]\n",
      " [0 0 0 0 0 0 0 0 1 1 1 1 0 0 0 0]\n",
      " [0 0 0 0 0 0 0 0 1 0 5 0 0 0 0 0]\n",
      " [0 0 0 0 0 0 0 0 0 1 1 6 0 1 0 0]\n",
      " [0 0 0 0 0 0 0 0 0 0 0 0 1 0 0 0]\n",
      " [0 0 0 0 0 0 0 0 0 0 0 1 1 0 1 0]\n",
      " [0 0 0 0 0 0 0 0 0 0 0 0 0 0 1 1]\n",
      " [0 0 0 0 0 0 0 0 0 0 0 0 0 0 0 0]]\n",
      "Classification Report\n",
      "              precision    recall  f1-score   support\n",
      "\n",
      "           0       0.33      0.64      0.44        11\n",
      "           2       0.00      0.00      0.00         2\n",
      "           3       0.00      0.00      0.00         5\n",
      "           4       0.00      0.00      0.00         2\n",
      "           5       0.57      0.33      0.42        12\n",
      "           6       0.40      0.67      0.50         3\n",
      "           7       0.38      0.45      0.42        11\n",
      "           8       0.29      0.50      0.36         4\n",
      "           9       0.33      0.25      0.29         4\n",
      "          10       0.50      0.25      0.33         4\n",
      "          11       0.71      0.83      0.77         6\n",
      "          12       0.75      0.67      0.71         9\n",
      "          13       0.50      1.00      0.67         1\n",
      "          14       0.00      0.00      0.00         3\n",
      "          15       0.50      0.50      0.50         2\n",
      "          16       0.00      0.00      0.00         0\n",
      "\n",
      "    accuracy                           0.44        79\n",
      "   macro avg       0.33      0.38      0.34        79\n",
      "weighted avg       0.42      0.44      0.41        79\n",
      "\n",
      "Accuracy: 0.4430379746835443\n"
     ]
    },
    {
     "name": "stderr",
     "output_type": "stream",
     "text": [
      "/Users/marconardin/Documents/berkextension_py_ml_class/ml_class_venv/lib/python3.8/site-packages/sklearn/metrics/_classification.py:1344: UndefinedMetricWarning: Precision and F-score are ill-defined and being set to 0.0 in labels with no predicted samples. Use `zero_division` parameter to control this behavior.\n",
      "  _warn_prf(average, modifier, msg_start, len(result))\n",
      "/Users/marconardin/Documents/berkextension_py_ml_class/ml_class_venv/lib/python3.8/site-packages/sklearn/metrics/_classification.py:1344: UndefinedMetricWarning: Recall and F-score are ill-defined and being set to 0.0 in labels with no true samples. Use `zero_division` parameter to control this behavior.\n",
      "  _warn_prf(average, modifier, msg_start, len(result))\n",
      "/Users/marconardin/Documents/berkextension_py_ml_class/ml_class_venv/lib/python3.8/site-packages/sklearn/metrics/_classification.py:1344: UndefinedMetricWarning: Precision and F-score are ill-defined and being set to 0.0 in labels with no predicted samples. Use `zero_division` parameter to control this behavior.\n",
      "  _warn_prf(average, modifier, msg_start, len(result))\n",
      "/Users/marconardin/Documents/berkextension_py_ml_class/ml_class_venv/lib/python3.8/site-packages/sklearn/metrics/_classification.py:1344: UndefinedMetricWarning: Recall and F-score are ill-defined and being set to 0.0 in labels with no true samples. Use `zero_division` parameter to control this behavior.\n",
      "  _warn_prf(average, modifier, msg_start, len(result))\n",
      "/Users/marconardin/Documents/berkextension_py_ml_class/ml_class_venv/lib/python3.8/site-packages/sklearn/metrics/_classification.py:1344: UndefinedMetricWarning: Precision and F-score are ill-defined and being set to 0.0 in labels with no predicted samples. Use `zero_division` parameter to control this behavior.\n",
      "  _warn_prf(average, modifier, msg_start, len(result))\n",
      "/Users/marconardin/Documents/berkextension_py_ml_class/ml_class_venv/lib/python3.8/site-packages/sklearn/metrics/_classification.py:1344: UndefinedMetricWarning: Recall and F-score are ill-defined and being set to 0.0 in labels with no true samples. Use `zero_division` parameter to control this behavior.\n",
      "  _warn_prf(average, modifier, msg_start, len(result))\n"
     ]
    }
   ],
   "source": [
    "svclassifier = SVC(kernel='linear') # creating an object\n",
    "svclassifier.fit(xmat_train, ymat_train) # fiting the data to the model\n",
    "\n",
    "ymat_pred = svclassifier.predict(xmat_test)\n",
    "\n",
    "print(\"Confusion Matrix\")\n",
    "print(confusion_matrix(ymat_test, ymat_pred))\n",
    "print(\"Classification Report\")\n",
    "print(classification_report(ymat_test, ymat_pred))\n",
    "print(\"Accuracy:\", metrics.accuracy_score(ymat_test, ymat_pred))"
   ]
  },
  {
   "cell_type": "markdown",
   "id": "1353db25",
   "metadata": {},
   "source": [
    "#### Portuguese"
   ]
  },
  {
   "cell_type": "code",
   "execution_count": 131,
   "id": "edc8f31c",
   "metadata": {},
   "outputs": [
    {
     "name": "stdout",
     "output_type": "stream",
     "text": [
      "Confusion Matrix\n",
      "[[ 1  0  1  0  0  0  0  0  0  0  0  0  0]\n",
      " [ 0  0  0  0  0  0  0  0  0  0  0  0  0]\n",
      " [ 2  2  3  1  0  0  0  0  0  0  0  0  0]\n",
      " [ 0  1  1  1  0  0  0  0  0  0  0  0  0]\n",
      " [ 0  0  2  1 11  9  0  0  0  0  0  0  0]\n",
      " [ 0  0  0  0  8 23  0  0  0  0  0  0  0]\n",
      " [ 0  0  0  0  0  6  4  2  0  0  0  0  0]\n",
      " [ 0  0  0  0  0  0  3  6  1  0  0  0  0]\n",
      " [ 0  0  0  0  0  1  0  5  2  3  0  0  0]\n",
      " [ 0  0  0  0  0  0  1  0  2  8  1  0  0]\n",
      " [ 0  0  0  0  0  0  0  0  0  5  2  2  0]\n",
      " [ 0  0  0  0  0  0  0  0  1  1  1  1  1]\n",
      " [ 0  0  0  0  0  0  0  0  0  0  0  2  2]]\n",
      "Classification Report\n",
      "              precision    recall  f1-score   support\n",
      "\n",
      "           0       0.33      0.50      0.40         2\n",
      "           4       0.00      0.00      0.00         0\n",
      "           5       0.43      0.38      0.40         8\n",
      "           6       0.33      0.33      0.33         3\n",
      "           7       0.58      0.48      0.52        23\n",
      "           8       0.59      0.74      0.66        31\n",
      "           9       0.50      0.33      0.40        12\n",
      "          10       0.46      0.60      0.52        10\n",
      "          11       0.33      0.18      0.24        11\n",
      "          12       0.47      0.67      0.55        12\n",
      "          13       0.50      0.22      0.31         9\n",
      "          14       0.20      0.20      0.20         5\n",
      "          15       0.67      0.50      0.57         4\n",
      "\n",
      "    accuracy                           0.49       130\n",
      "   macro avg       0.42      0.39      0.39       130\n",
      "weighted avg       0.50      0.49      0.48       130\n",
      "\n",
      "Accuracy: 0.49230769230769234\n"
     ]
    },
    {
     "name": "stderr",
     "output_type": "stream",
     "text": [
      "/Users/marconardin/Documents/berkextension_py_ml_class/ml_class_venv/lib/python3.8/site-packages/sklearn/metrics/_classification.py:1344: UndefinedMetricWarning: Recall and F-score are ill-defined and being set to 0.0 in labels with no true samples. Use `zero_division` parameter to control this behavior.\n",
      "  _warn_prf(average, modifier, msg_start, len(result))\n",
      "/Users/marconardin/Documents/berkextension_py_ml_class/ml_class_venv/lib/python3.8/site-packages/sklearn/metrics/_classification.py:1344: UndefinedMetricWarning: Recall and F-score are ill-defined and being set to 0.0 in labels with no true samples. Use `zero_division` parameter to control this behavior.\n",
      "  _warn_prf(average, modifier, msg_start, len(result))\n",
      "/Users/marconardin/Documents/berkextension_py_ml_class/ml_class_venv/lib/python3.8/site-packages/sklearn/metrics/_classification.py:1344: UndefinedMetricWarning: Recall and F-score are ill-defined and being set to 0.0 in labels with no true samples. Use `zero_division` parameter to control this behavior.\n",
      "  _warn_prf(average, modifier, msg_start, len(result))\n"
     ]
    }
   ],
   "source": [
    "svclassifier = SVC(kernel='linear') # creating an object\n",
    "svclassifier.fit(xpor_train, ypor_train) # fiting the data to the model\n",
    "\n",
    "ypor_pred = svclassifier.predict(xpor_test)\n",
    "\n",
    "print(\"Confusion Matrix\")\n",
    "print(confusion_matrix(ypor_test, ypor_pred))\n",
    "print(\"Classification Report\")\n",
    "print(classification_report(ypor_test, ypor_pred))\n",
    "print(\"Accuracy:\", metrics.accuracy_score(ypor_test, ypor_pred))"
   ]
  },
  {
   "cell_type": "markdown",
   "id": "bb7c57f8",
   "metadata": {},
   "source": [
    "## Use GridSearchCV"
   ]
  },
  {
   "cell_type": "code",
   "execution_count": 132,
   "id": "68e4d9b9",
   "metadata": {},
   "outputs": [],
   "source": [
    "from sklearn.model_selection import GridSearchCV"
   ]
  },
  {
   "cell_type": "code",
   "execution_count": 133,
   "id": "43a3ea5f",
   "metadata": {},
   "outputs": [],
   "source": [
    "parameters = {'kernel':['linear', 'rbf', 'poly'], 'C':[1, 5, 10]}"
   ]
  },
  {
   "cell_type": "code",
   "execution_count": 134,
   "id": "58c3657d",
   "metadata": {
    "scrolled": true
   },
   "outputs": [
    {
     "name": "stdout",
     "output_type": "stream",
     "text": [
      "Fitting 3 folds for each of 9 candidates, totalling 27 fits\n",
      "['mean_fit_time', 'mean_score_time', 'mean_test_score', 'param_C', 'param_kernel', 'params', 'rank_test_score', 'split0_test_score', 'split1_test_score', 'split2_test_score', 'std_fit_time', 'std_score_time', 'std_test_score']\n"
     ]
    },
    {
     "name": "stderr",
     "output_type": "stream",
     "text": [
      "/Users/marconardin/Documents/berkextension_py_ml_class/ml_class_venv/lib/python3.8/site-packages/sklearn/model_selection/_split.py:700: UserWarning: The least populated class in y has only 1 members, which is less than n_splits=3.\n",
      "  warnings.warn(\n"
     ]
    }
   ],
   "source": [
    "# Math\n",
    "svc = SVC()\n",
    "clf = GridSearchCV(svc, param_grid = parameters, cv = 3, verbose=True, n_jobs=-1)\n",
    "\n",
    "final_clf = clf.fit(xmat_train, ymat_train)\n",
    "print(sorted(final_clf.cv_results_.keys()))"
   ]
  },
  {
   "cell_type": "code",
   "execution_count": 135,
   "id": "6382655a",
   "metadata": {},
   "outputs": [
    {
     "name": "stdout",
     "output_type": "stream",
     "text": [
      "SVC(C=5, kernel='poly')\n",
      "{'C': 5, 'kernel': 'poly'}\n"
     ]
    }
   ],
   "source": [
    "print(final_clf.best_estimator_)\n",
    "print(final_clf.best_params_)"
   ]
  },
  {
   "cell_type": "code",
   "execution_count": 136,
   "id": "c3a425a6",
   "metadata": {},
   "outputs": [
    {
     "name": "stdout",
     "output_type": "stream",
     "text": [
      "Fitting 3 folds for each of 9 candidates, totalling 27 fits\n",
      "['mean_fit_time', 'mean_score_time', 'mean_test_score', 'param_C', 'param_kernel', 'params', 'rank_test_score', 'split0_test_score', 'split1_test_score', 'split2_test_score', 'std_fit_time', 'std_score_time', 'std_test_score']\n"
     ]
    },
    {
     "name": "stderr",
     "output_type": "stream",
     "text": [
      "/Users/marconardin/Documents/berkextension_py_ml_class/ml_class_venv/lib/python3.8/site-packages/sklearn/model_selection/_split.py:700: UserWarning: The least populated class in y has only 1 members, which is less than n_splits=3.\n",
      "  warnings.warn(\n"
     ]
    }
   ],
   "source": [
    "# Portuguese\n",
    "svc = SVC()\n",
    "clf = GridSearchCV(svc, param_grid = parameters, cv = 3, verbose=True, n_jobs=-1)\n",
    "\n",
    "final_clf = clf.fit(xpor_train, ypor_train)\n",
    "print(sorted(final_clf.cv_results_.keys()))"
   ]
  },
  {
   "cell_type": "code",
   "execution_count": 137,
   "id": "36fc953c",
   "metadata": {},
   "outputs": [
    {
     "name": "stdout",
     "output_type": "stream",
     "text": [
      "SVC(C=10)\n",
      "{'C': 10, 'kernel': 'rbf'}\n"
     ]
    }
   ],
   "source": [
    "print(final_clf.best_estimator_)\n",
    "print(final_clf.best_params_)"
   ]
  },
  {
   "cell_type": "markdown",
   "id": "090a9546",
   "metadata": {},
   "source": [
    "## Best parameters for Math are C=1 and Kernel=linear\n",
    "## Best parameters for Portuguese are C=5 and Kernel=poly"
   ]
  },
  {
   "cell_type": "markdown",
   "id": "a63ec64a",
   "metadata": {},
   "source": [
    "# Create the SVM with the best parameters"
   ]
  },
  {
   "cell_type": "markdown",
   "id": "0f1cc8bc",
   "metadata": {},
   "source": [
    "### Math"
   ]
  },
  {
   "cell_type": "code",
   "execution_count": 138,
   "id": "e75b157d",
   "metadata": {},
   "outputs": [
    {
     "name": "stdout",
     "output_type": "stream",
     "text": [
      "Confusion Matrix\n",
      "[[7 0 0 0 2 1 0 1 0 0 0 0 0 0 0 0]\n",
      " [2 0 0 0 0 0 0 0 0 0 0 0 0 0 0 0]\n",
      " [4 0 0 0 0 1 0 0 0 0 0 0 0 0 0 0]\n",
      " [1 0 0 0 0 1 0 0 0 0 0 0 0 0 0 0]\n",
      " [5 0 0 0 4 0 3 0 0 0 0 0 0 0 0 0]\n",
      " [0 0 0 0 0 2 1 0 0 0 0 0 0 0 0 0]\n",
      " [2 0 0 0 1 0 5 3 0 0 0 0 0 0 0 0]\n",
      " [0 0 0 0 0 0 2 2 0 0 0 0 0 0 0 0]\n",
      " [0 0 0 0 0 0 2 1 1 0 0 0 0 0 0 0]\n",
      " [0 0 0 0 0 0 0 0 1 1 1 1 0 0 0 0]\n",
      " [0 0 0 0 0 0 0 0 1 0 5 0 0 0 0 0]\n",
      " [0 0 0 0 0 0 0 0 0 1 1 6 0 1 0 0]\n",
      " [0 0 0 0 0 0 0 0 0 0 0 0 1 0 0 0]\n",
      " [0 0 0 0 0 0 0 0 0 0 0 1 1 0 1 0]\n",
      " [0 0 0 0 0 0 0 0 0 0 0 0 0 0 1 1]\n",
      " [0 0 0 0 0 0 0 0 0 0 0 0 0 0 0 0]]\n",
      "Classification Report\n",
      "              precision    recall  f1-score   support\n",
      "\n",
      "           0       0.33      0.64      0.44        11\n",
      "           2       0.00      0.00      0.00         2\n",
      "           3       0.00      0.00      0.00         5\n",
      "           4       0.00      0.00      0.00         2\n",
      "           5       0.57      0.33      0.42        12\n",
      "           6       0.40      0.67      0.50         3\n",
      "           7       0.38      0.45      0.42        11\n",
      "           8       0.29      0.50      0.36         4\n",
      "           9       0.33      0.25      0.29         4\n",
      "          10       0.50      0.25      0.33         4\n",
      "          11       0.71      0.83      0.77         6\n",
      "          12       0.75      0.67      0.71         9\n",
      "          13       0.50      1.00      0.67         1\n",
      "          14       0.00      0.00      0.00         3\n",
      "          15       0.50      0.50      0.50         2\n",
      "          16       0.00      0.00      0.00         0\n",
      "\n",
      "    accuracy                           0.44        79\n",
      "   macro avg       0.33      0.38      0.34        79\n",
      "weighted avg       0.42      0.44      0.41        79\n",
      "\n",
      "Accuracy: 0.4430379746835443\n"
     ]
    },
    {
     "name": "stderr",
     "output_type": "stream",
     "text": [
      "/Users/marconardin/Documents/berkextension_py_ml_class/ml_class_venv/lib/python3.8/site-packages/sklearn/metrics/_classification.py:1344: UndefinedMetricWarning: Precision and F-score are ill-defined and being set to 0.0 in labels with no predicted samples. Use `zero_division` parameter to control this behavior.\n",
      "  _warn_prf(average, modifier, msg_start, len(result))\n",
      "/Users/marconardin/Documents/berkextension_py_ml_class/ml_class_venv/lib/python3.8/site-packages/sklearn/metrics/_classification.py:1344: UndefinedMetricWarning: Recall and F-score are ill-defined and being set to 0.0 in labels with no true samples. Use `zero_division` parameter to control this behavior.\n",
      "  _warn_prf(average, modifier, msg_start, len(result))\n",
      "/Users/marconardin/Documents/berkextension_py_ml_class/ml_class_venv/lib/python3.8/site-packages/sklearn/metrics/_classification.py:1344: UndefinedMetricWarning: Precision and F-score are ill-defined and being set to 0.0 in labels with no predicted samples. Use `zero_division` parameter to control this behavior.\n",
      "  _warn_prf(average, modifier, msg_start, len(result))\n",
      "/Users/marconardin/Documents/berkextension_py_ml_class/ml_class_venv/lib/python3.8/site-packages/sklearn/metrics/_classification.py:1344: UndefinedMetricWarning: Recall and F-score are ill-defined and being set to 0.0 in labels with no true samples. Use `zero_division` parameter to control this behavior.\n",
      "  _warn_prf(average, modifier, msg_start, len(result))\n",
      "/Users/marconardin/Documents/berkextension_py_ml_class/ml_class_venv/lib/python3.8/site-packages/sklearn/metrics/_classification.py:1344: UndefinedMetricWarning: Precision and F-score are ill-defined and being set to 0.0 in labels with no predicted samples. Use `zero_division` parameter to control this behavior.\n",
      "  _warn_prf(average, modifier, msg_start, len(result))\n",
      "/Users/marconardin/Documents/berkextension_py_ml_class/ml_class_venv/lib/python3.8/site-packages/sklearn/metrics/_classification.py:1344: UndefinedMetricWarning: Recall and F-score are ill-defined and being set to 0.0 in labels with no true samples. Use `zero_division` parameter to control this behavior.\n",
      "  _warn_prf(average, modifier, msg_start, len(result))\n"
     ]
    }
   ],
   "source": [
    "svclassifier = SVC(kernel='linear', C=1) # creating an object\n",
    "svclassifier.fit(xmat_train, ymat_train) # fiting the data to the model\n",
    "\n",
    "ymat_pred = svclassifier.predict(xmat_test)\n",
    "\n",
    "print(\"Confusion Matrix\")\n",
    "print(confusion_matrix(ymat_test, ymat_pred))\n",
    "print(\"Classification Report\")\n",
    "print(classification_report(ymat_test, ymat_pred))\n",
    "print(\"Accuracy:\", metrics.accuracy_score(ymat_test, ymat_pred))"
   ]
  },
  {
   "cell_type": "markdown",
   "id": "86a0dc85",
   "metadata": {},
   "source": [
    "### Portuguese"
   ]
  },
  {
   "cell_type": "code",
   "execution_count": 139,
   "id": "1e40de78",
   "metadata": {},
   "outputs": [
    {
     "name": "stdout",
     "output_type": "stream",
     "text": [
      "Confusion Matrix\n",
      "[[ 1  0  1  0  0  0  0  0  0  0  0  0  0]\n",
      " [ 0  0  0  0  0  0  0  0  0  0  0  0  0]\n",
      " [ 2  2  3  1  0  0  0  0  0  0  0  0  0]\n",
      " [ 0  1  1  1  0  0  0  0  0  0  0  0  0]\n",
      " [ 0  0  2  1 11  9  0  0  0  0  0  0  0]\n",
      " [ 0  0  0  0  9 22  0  0  0  0  0  0  0]\n",
      " [ 0  0  0  0  0  6  4  2  0  0  0  0  0]\n",
      " [ 0  0  0  0  0  0  4  5  1  0  0  0  0]\n",
      " [ 0  0  0  0  0  1  0  5  2  2  1  0  0]\n",
      " [ 0  0  0  0  0  0  1  0  3  7  1  0  0]\n",
      " [ 0  0  0  0  0  0  0  0  0  5  2  2  0]\n",
      " [ 0  0  0  0  0  0  0  0  0  2  1  1  1]\n",
      " [ 0  0  0  0  0  0  0  0  0  0  0  3  1]]\n",
      "Classification Report\n",
      "              precision    recall  f1-score   support\n",
      "\n",
      "           0       0.33      0.50      0.40         2\n",
      "           4       0.00      0.00      0.00         0\n",
      "           5       0.43      0.38      0.40         8\n",
      "           6       0.33      0.33      0.33         3\n",
      "           7       0.55      0.48      0.51        23\n",
      "           8       0.58      0.71      0.64        31\n",
      "           9       0.44      0.33      0.38        12\n",
      "          10       0.42      0.50      0.45        10\n",
      "          11       0.33      0.18      0.24        11\n",
      "          12       0.44      0.58      0.50        12\n",
      "          13       0.40      0.22      0.29         9\n",
      "          14       0.17      0.20      0.18         5\n",
      "          15       0.50      0.25      0.33         4\n",
      "\n",
      "    accuracy                           0.46       130\n",
      "   macro avg       0.38      0.36      0.36       130\n",
      "weighted avg       0.47      0.46      0.45       130\n",
      "\n",
      "Accuracy: 0.46153846153846156\n"
     ]
    },
    {
     "name": "stderr",
     "output_type": "stream",
     "text": [
      "/Users/marconardin/Documents/berkextension_py_ml_class/ml_class_venv/lib/python3.8/site-packages/sklearn/metrics/_classification.py:1344: UndefinedMetricWarning: Recall and F-score are ill-defined and being set to 0.0 in labels with no true samples. Use `zero_division` parameter to control this behavior.\n",
      "  _warn_prf(average, modifier, msg_start, len(result))\n",
      "/Users/marconardin/Documents/berkextension_py_ml_class/ml_class_venv/lib/python3.8/site-packages/sklearn/metrics/_classification.py:1344: UndefinedMetricWarning: Recall and F-score are ill-defined and being set to 0.0 in labels with no true samples. Use `zero_division` parameter to control this behavior.\n",
      "  _warn_prf(average, modifier, msg_start, len(result))\n",
      "/Users/marconardin/Documents/berkextension_py_ml_class/ml_class_venv/lib/python3.8/site-packages/sklearn/metrics/_classification.py:1344: UndefinedMetricWarning: Recall and F-score are ill-defined and being set to 0.0 in labels with no true samples. Use `zero_division` parameter to control this behavior.\n",
      "  _warn_prf(average, modifier, msg_start, len(result))\n"
     ]
    }
   ],
   "source": [
    "svclassifier = SVC(kernel='poly', C=5) # creating an object\n",
    "svclassifier.fit(xpor_train, ypor_train) # fiting the data to the model\n",
    "\n",
    "ypor_pred = svclassifier.predict(xpor_test)\n",
    "\n",
    "print(\"Confusion Matrix\")\n",
    "print(confusion_matrix(ypor_test, ypor_pred))\n",
    "print(\"Classification Report\")\n",
    "print(classification_report(ypor_test, ypor_pred))\n",
    "print(\"Accuracy:\", metrics.accuracy_score(ypor_test, ypor_pred))"
   ]
  },
  {
   "cell_type": "markdown",
   "id": "6e0ff0a6",
   "metadata": {},
   "source": [
    "## Math accuracy stayed the same (53%) while Portuguese improved quite a bit (39% to 48%)\n",
    "### Next step could be to try different feature selection and repeat the GridSearchCV steps"
   ]
  },
  {
   "cell_type": "markdown",
   "id": "9fbe6046",
   "metadata": {},
   "source": [
    "# b) Likewise, use GridSearchCV to find the best number of trees for Random Forest and then build Random Forest Classifier and compute confusion matrix, classification report and accuracy."
   ]
  },
  {
   "cell_type": "code",
   "execution_count": 140,
   "id": "79640e86",
   "metadata": {},
   "outputs": [],
   "source": [
    "from sklearn.ensemble import RandomForestClassifier\n",
    "from sklearn.metrics import accuracy_score"
   ]
  },
  {
   "cell_type": "code",
   "execution_count": 141,
   "id": "626c5dc2",
   "metadata": {},
   "outputs": [],
   "source": [
    "# The number of trees\n",
    "parameters = {'n_estimators': [100, 200, 300, 500, 1000]}"
   ]
  },
  {
   "cell_type": "markdown",
   "id": "0e1700b9",
   "metadata": {},
   "source": [
    "### Math"
   ]
  },
  {
   "cell_type": "code",
   "execution_count": 142,
   "id": "0466a535",
   "metadata": {},
   "outputs": [],
   "source": [
    "rfc = RandomForestClassifier(random_state=42)"
   ]
  },
  {
   "cell_type": "code",
   "execution_count": 143,
   "id": "c493f47c",
   "metadata": {},
   "outputs": [
    {
     "name": "stdout",
     "output_type": "stream",
     "text": [
      "Fitting 3 folds for each of 5 candidates, totalling 15 fits\n"
     ]
    },
    {
     "name": "stderr",
     "output_type": "stream",
     "text": [
      "/Users/marconardin/Documents/berkextension_py_ml_class/ml_class_venv/lib/python3.8/site-packages/sklearn/model_selection/_split.py:700: UserWarning: The least populated class in y has only 1 members, which is less than n_splits=3.\n",
      "  warnings.warn(\n"
     ]
    },
    {
     "name": "stdout",
     "output_type": "stream",
     "text": [
      "['mean_fit_time', 'mean_score_time', 'mean_test_score', 'param_n_estimators', 'params', 'rank_test_score', 'split0_test_score', 'split1_test_score', 'split2_test_score', 'std_fit_time', 'std_score_time', 'std_test_score']\n",
      "RandomForestClassifier(n_estimators=1000, random_state=42)\n",
      "{'n_estimators': 1000}\n"
     ]
    }
   ],
   "source": [
    "clf = GridSearchCV(rfc, param_grid = parameters, cv = 3, verbose=True, n_jobs=-1)\n",
    "\n",
    "final_clf = clf.fit(xmat_train, ymat_train)\n",
    "print(sorted(final_clf.cv_results_.keys()))\n",
    "print(final_clf.best_estimator_)\n",
    "print(final_clf.best_params_)"
   ]
  },
  {
   "cell_type": "markdown",
   "id": "962b09a1",
   "metadata": {},
   "source": [
    "### Portuguese"
   ]
  },
  {
   "cell_type": "code",
   "execution_count": 144,
   "id": "1d9b11ec",
   "metadata": {},
   "outputs": [],
   "source": [
    "rfc = RandomForestClassifier(random_state=42)"
   ]
  },
  {
   "cell_type": "code",
   "execution_count": 145,
   "id": "6fae8c2e",
   "metadata": {},
   "outputs": [
    {
     "name": "stdout",
     "output_type": "stream",
     "text": [
      "Fitting 3 folds for each of 5 candidates, totalling 15 fits\n"
     ]
    },
    {
     "name": "stderr",
     "output_type": "stream",
     "text": [
      "/Users/marconardin/Documents/berkextension_py_ml_class/ml_class_venv/lib/python3.8/site-packages/sklearn/model_selection/_split.py:700: UserWarning: The least populated class in y has only 1 members, which is less than n_splits=3.\n",
      "  warnings.warn(\n"
     ]
    },
    {
     "name": "stdout",
     "output_type": "stream",
     "text": [
      "['mean_fit_time', 'mean_score_time', 'mean_test_score', 'param_n_estimators', 'params', 'rank_test_score', 'split0_test_score', 'split1_test_score', 'split2_test_score', 'std_fit_time', 'std_score_time', 'std_test_score']\n",
      "RandomForestClassifier(n_estimators=1000, random_state=42)\n",
      "{'n_estimators': 1000}\n"
     ]
    }
   ],
   "source": [
    "clf = GridSearchCV(rfc, param_grid = parameters, cv = 3, verbose=True, n_jobs=-1)\n",
    "\n",
    "final_clf = clf.fit(xpor_train, ypor_train)\n",
    "print(sorted(final_clf.cv_results_.keys()))\n",
    "print(final_clf.best_estimator_)\n",
    "print(final_clf.best_params_)"
   ]
  },
  {
   "cell_type": "markdown",
   "id": "e8514221",
   "metadata": {},
   "source": [
    "## Best Random Forest number of trees for Math is 500\n",
    "## Best Random Forest number of trees for Portuguese is 300"
   ]
  },
  {
   "cell_type": "markdown",
   "id": "67f42690",
   "metadata": {},
   "source": [
    "# Create the Random Forest with the best parameters"
   ]
  },
  {
   "cell_type": "markdown",
   "id": "a6dec379",
   "metadata": {},
   "source": [
    "### Math"
   ]
  },
  {
   "cell_type": "code",
   "execution_count": 146,
   "id": "5ac9d6d7",
   "metadata": {},
   "outputs": [
    {
     "name": "stdout",
     "output_type": "stream",
     "text": [
      "[[4 0 2 0 2 1 1 1 0 0 0 0 0 0 0 0]\n",
      " [1 0 0 0 1 0 0 0 0 0 0 0 0 0 0 0]\n",
      " [3 0 1 0 1 0 0 0 0 0 0 0 0 0 0 0]\n",
      " [1 0 0 0 0 0 1 0 0 0 0 0 0 0 0 0]\n",
      " [2 0 1 0 5 1 3 0 0 0 0 0 0 0 0 0]\n",
      " [1 0 0 0 0 1 1 0 0 0 0 0 0 0 0 0]\n",
      " [0 0 1 0 0 0 6 4 0 0 0 0 0 0 0 0]\n",
      " [0 0 0 0 0 0 2 2 0 0 0 0 0 0 0 0]\n",
      " [0 0 0 0 0 0 1 2 1 0 0 0 0 0 0 0]\n",
      " [0 0 0 0 0 0 0 0 1 1 1 1 0 0 0 0]\n",
      " [0 0 0 0 0 0 0 0 1 1 4 0 0 0 0 0]\n",
      " [0 0 0 0 0 0 0 0 0 1 0 3 5 0 0 0]\n",
      " [0 0 0 0 0 0 0 0 0 0 0 1 0 0 0 0]\n",
      " [0 0 0 0 0 0 0 0 0 0 0 2 0 0 1 0]\n",
      " [0 0 0 0 0 0 0 0 0 0 0 0 0 0 1 1]\n",
      " [0 0 0 0 0 0 0 0 0 0 0 0 0 0 0 0]]\n",
      "              precision    recall  f1-score   support\n",
      "\n",
      "           0       0.33      0.36      0.35        11\n",
      "           2       0.00      0.00      0.00         2\n",
      "           3       0.20      0.20      0.20         5\n",
      "           4       0.00      0.00      0.00         2\n",
      "           5       0.56      0.42      0.48        12\n",
      "           6       0.33      0.33      0.33         3\n",
      "           7       0.40      0.55      0.46        11\n",
      "           8       0.22      0.50      0.31         4\n",
      "           9       0.33      0.25      0.29         4\n",
      "          10       0.33      0.25      0.29         4\n",
      "          11       0.80      0.67      0.73         6\n",
      "          12       0.43      0.33      0.38         9\n",
      "          13       0.00      0.00      0.00         1\n",
      "          14       0.00      0.00      0.00         3\n",
      "          15       0.50      0.50      0.50         2\n",
      "          16       0.00      0.00      0.00         0\n",
      "\n",
      "    accuracy                           0.37        79\n",
      "   macro avg       0.28      0.27      0.27        79\n",
      "weighted avg       0.38      0.37      0.37        79\n",
      "\n",
      "Accuracy for random forest: 36.708860759493675\n"
     ]
    },
    {
     "name": "stderr",
     "output_type": "stream",
     "text": [
      "/Users/marconardin/Documents/berkextension_py_ml_class/ml_class_venv/lib/python3.8/site-packages/sklearn/metrics/_classification.py:1344: UndefinedMetricWarning: Precision and F-score are ill-defined and being set to 0.0 in labels with no predicted samples. Use `zero_division` parameter to control this behavior.\n",
      "  _warn_prf(average, modifier, msg_start, len(result))\n",
      "/Users/marconardin/Documents/berkextension_py_ml_class/ml_class_venv/lib/python3.8/site-packages/sklearn/metrics/_classification.py:1344: UndefinedMetricWarning: Recall and F-score are ill-defined and being set to 0.0 in labels with no true samples. Use `zero_division` parameter to control this behavior.\n",
      "  _warn_prf(average, modifier, msg_start, len(result))\n",
      "/Users/marconardin/Documents/berkextension_py_ml_class/ml_class_venv/lib/python3.8/site-packages/sklearn/metrics/_classification.py:1344: UndefinedMetricWarning: Precision and F-score are ill-defined and being set to 0.0 in labels with no predicted samples. Use `zero_division` parameter to control this behavior.\n",
      "  _warn_prf(average, modifier, msg_start, len(result))\n",
      "/Users/marconardin/Documents/berkextension_py_ml_class/ml_class_venv/lib/python3.8/site-packages/sklearn/metrics/_classification.py:1344: UndefinedMetricWarning: Recall and F-score are ill-defined and being set to 0.0 in labels with no true samples. Use `zero_division` parameter to control this behavior.\n",
      "  _warn_prf(average, modifier, msg_start, len(result))\n",
      "/Users/marconardin/Documents/berkextension_py_ml_class/ml_class_venv/lib/python3.8/site-packages/sklearn/metrics/_classification.py:1344: UndefinedMetricWarning: Precision and F-score are ill-defined and being set to 0.0 in labels with no predicted samples. Use `zero_division` parameter to control this behavior.\n",
      "  _warn_prf(average, modifier, msg_start, len(result))\n",
      "/Users/marconardin/Documents/berkextension_py_ml_class/ml_class_venv/lib/python3.8/site-packages/sklearn/metrics/_classification.py:1344: UndefinedMetricWarning: Recall and F-score are ill-defined and being set to 0.0 in labels with no true samples. Use `zero_division` parameter to control this behavior.\n",
      "  _warn_prf(average, modifier, msg_start, len(result))\n"
     ]
    }
   ],
   "source": [
    "rfc = RandomForestClassifier(n_estimators=500, random_state=42)\n",
    "rfc.fit(xmat_train, ymat_train)\n",
    "rfc_predict = rfc.predict(xmat_test)   \n",
    "cm_rf = confusion_matrix(ymat_test, rfc_predict)\n",
    "\n",
    "print(cm_rf)\n",
    "print(classification_report(ymat_test, rfc_predict))\n",
    "print(\"Accuracy for random forest:\", accuracy_score(ymat_test,rfc_predict)*100)   "
   ]
  },
  {
   "cell_type": "markdown",
   "id": "d562eb33",
   "metadata": {},
   "source": [
    "### Portuguese"
   ]
  },
  {
   "cell_type": "code",
   "execution_count": 147,
   "id": "3ba5bc26",
   "metadata": {},
   "outputs": [
    {
     "name": "stdout",
     "output_type": "stream",
     "text": [
      "[[ 1  0  1  0  0  0  0  0  0  0  0  0  0]\n",
      " [ 0  0  0  0  0  0  0  0  0  0  0  0  0]\n",
      " [ 1  3  1  1  2  0  0  0  0  0  0  0  0]\n",
      " [ 0  1  1  1  0  0  0  0  0  0  0  0  0]\n",
      " [ 0  0  0  1 13  9  0  0  0  0  0  0  0]\n",
      " [ 0  0  0  0 12 18  1  0  0  0  0  0  0]\n",
      " [ 0  0  0  0  1  4  1  6  0  0  0  0  0]\n",
      " [ 0  0  0  0  0  0  1  6  3  0  0  0  0]\n",
      " [ 0  0  0  0  0  0  1  3  3  3  1  0  0]\n",
      " [ 0  0  0  0  0  0  1  1  3  5  2  0  0]\n",
      " [ 0  0  0  0  0  0  0  0  0  5  4  0  0]\n",
      " [ 0  0  0  0  0  0  0  0  0  2  1  1  1]\n",
      " [ 0  0  0  0  0  0  0  0  0  0  0  3  1]]\n",
      "              precision    recall  f1-score   support\n",
      "\n",
      "           0       0.50      0.50      0.50         2\n",
      "           4       0.00      0.00      0.00         0\n",
      "           5       0.33      0.12      0.18         8\n",
      "           6       0.33      0.33      0.33         3\n",
      "           7       0.46      0.57      0.51        23\n",
      "           8       0.58      0.58      0.58        31\n",
      "           9       0.20      0.08      0.12        12\n",
      "          10       0.38      0.60      0.46        10\n",
      "          11       0.33      0.27      0.30        11\n",
      "          12       0.33      0.42      0.37        12\n",
      "          13       0.50      0.44      0.47         9\n",
      "          14       0.25      0.20      0.22         5\n",
      "          15       0.50      0.25      0.33         4\n",
      "\n",
      "    accuracy                           0.42       130\n",
      "   macro avg       0.36      0.34      0.34       130\n",
      "weighted avg       0.42      0.42      0.41       130\n",
      "\n",
      "Accuracy for random forest: 42.30769230769231\n"
     ]
    },
    {
     "name": "stderr",
     "output_type": "stream",
     "text": [
      "/Users/marconardin/Documents/berkextension_py_ml_class/ml_class_venv/lib/python3.8/site-packages/sklearn/metrics/_classification.py:1344: UndefinedMetricWarning: Recall and F-score are ill-defined and being set to 0.0 in labels with no true samples. Use `zero_division` parameter to control this behavior.\n",
      "  _warn_prf(average, modifier, msg_start, len(result))\n",
      "/Users/marconardin/Documents/berkextension_py_ml_class/ml_class_venv/lib/python3.8/site-packages/sklearn/metrics/_classification.py:1344: UndefinedMetricWarning: Recall and F-score are ill-defined and being set to 0.0 in labels with no true samples. Use `zero_division` parameter to control this behavior.\n",
      "  _warn_prf(average, modifier, msg_start, len(result))\n",
      "/Users/marconardin/Documents/berkextension_py_ml_class/ml_class_venv/lib/python3.8/site-packages/sklearn/metrics/_classification.py:1344: UndefinedMetricWarning: Recall and F-score are ill-defined and being set to 0.0 in labels with no true samples. Use `zero_division` parameter to control this behavior.\n",
      "  _warn_prf(average, modifier, msg_start, len(result))\n"
     ]
    }
   ],
   "source": [
    "rfc = RandomForestClassifier(n_estimators=300, random_state=42)\n",
    "rfc.fit(xpor_train, ypor_train)\n",
    "rfc_predict = rfc.predict(xpor_test)   \n",
    "cm_rf = confusion_matrix(ypor_test, rfc_predict)\n",
    "\n",
    "print(cm_rf)\n",
    "print(classification_report(ypor_test, rfc_predict))\n",
    "print(\"Accuracy for random forest:\", accuracy_score(ypor_test,rfc_predict)*100)   "
   ]
  },
  {
   "cell_type": "markdown",
   "id": "7efd2074",
   "metadata": {},
   "source": [
    "## Observations\n",
    "\n",
    "- The RF model for math performed worse than the SVM with accuracy of 43.0% compared to 53%\n",
    "- The RF model for portuguese slightly better compared to the SVM with accuracy of 49.2% and about 48% respectively\n",
    "\n",
    "## Considerations\n",
    "- To improve the SVM and Random Forest Classifier, I would try to play with feature selection, look at feature correlations, and maybe combine features\n",
    "- perhaps this would be a good opportunity to use PCA"
   ]
  },
  {
   "cell_type": "markdown",
   "id": "25780d6d",
   "metadata": {},
   "source": [
    "# Also read about RandomSearchCV.  And explain the difference between RandomSearchCV and GridSearchCV."
   ]
  },
  {
   "cell_type": "markdown",
   "id": "08a29565",
   "metadata": {},
   "source": [
    "## RandomSearchCV is a randomized search on hyper parameters while GridSearchCV is an exhaustive search over specified parameter values according to the documentation\n",
    "\n",
    "### RandomSearchCV does not try out all parameter values. A fixed number of parameter settings is sampled for distributions specified by the user\n",
    "\n",
    "### My understanding is that RandomSearchCV is advantageous in that requires less computation and is faster compared to GridSearchCV\n",
    "### If you have a large set of parameters, then RandomSearchCV is likely better\n",
    "### If possible, it would be good to use both and see how they compare"
   ]
  },
  {
   "cell_type": "code",
   "execution_count": null,
   "id": "b12fce3e",
   "metadata": {},
   "outputs": [],
   "source": []
  }
 ],
 "metadata": {
  "kernelspec": {
   "display_name": "python_ml_venv",
   "language": "python",
   "name": "python_ml_venv"
  },
  "language_info": {
   "codemirror_mode": {
    "name": "ipython",
    "version": 3
   },
   "file_extension": ".py",
   "mimetype": "text/x-python",
   "name": "python",
   "nbconvert_exporter": "python",
   "pygments_lexer": "ipython3",
   "version": "3.8.2"
  }
 },
 "nbformat": 4,
 "nbformat_minor": 5
}
